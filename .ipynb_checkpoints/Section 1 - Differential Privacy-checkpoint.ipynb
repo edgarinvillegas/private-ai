{
 "cells": [
  {
   "cell_type": "markdown",
   "metadata": {},
   "source": [
    "## Lesson: Toy Differential Privacy - Simple Database Queries"
   ]
  },
  {
   "cell_type": "markdown",
   "metadata": {},
   "source": [
    "In this section we're going to play around with Differential Privacy in the context of a database query. The database is going to be a VERY simple database with only one boolean column. Each row corresponds to a person. Each value corresponds to whether or not that person has a certain private attribute (such as whether they have a certain disease, or whether they are above/below a certain age). We are then going to learn how to know whether a database query over such a small database is differentially private or not - and more importantly - what techniques are at our disposal to ensure various levels of privacy\n",
    "\n",
    "\n",
    "### First We Create a Simple Database\n",
    "\n",
    "Step one is to create our database - we're going to do this by initializing a random list of 1s and 0s (which are the entries in our database). Note - the number of entries directly corresponds to the number of people in our database."
   ]
  },
  {
   "cell_type": "code",
   "execution_count": 10,
   "metadata": {},
   "outputs": [
    {
     "data": {
      "text/plain": [
       "tensor([0, 1, 1,  ..., 0, 1, 1], dtype=torch.uint8)"
      ]
     },
     "execution_count": 10,
     "metadata": {},
     "output_type": "execute_result"
    }
   ],
   "source": [
    "import torch\n",
    "\n",
    "# the number of entries in our database\n",
    "num_entries = 5000\n",
    "\n",
    "db = torch.rand(num_entries) > 0.5\n",
    "db"
   ]
  },
  {
   "cell_type": "markdown",
   "metadata": {},
   "source": [
    "## Project: Generate Parallel Databases\n",
    "\n",
    "Key to the definition of differenital privacy is the ability to ask the question \"When querying a database, if I removed someone from the database, would the output of the query be any different?\". Thus, in order to check this, we must construct what we term \"parallel databases\" which are simply databases with one entry removed. \n",
    "\n",
    "In this first project, I want you to create a list of every parallel database to the one currently contained in the \"db\" variable. Then, I want you to create a function which both:\n",
    "\n",
    "- creates the initial database (db)\n",
    "- creates all parallel databases"
   ]
  },
  {
   "cell_type": "code",
   "execution_count": 11,
   "metadata": {},
   "outputs": [],
   "source": [
    "# try project here!\n",
    "import torch"
   ]
  },
  {
   "cell_type": "code",
   "execution_count": 12,
   "metadata": {},
   "outputs": [],
   "source": [
    "def get_parallel_db(db, remove_index):\n",
    "    return torch.cat([db[0:remove_index], db[remove_index + 1:]])"
   ]
  },
  {
   "cell_type": "code",
   "execution_count": 13,
   "metadata": {},
   "outputs": [],
   "source": [
    "def get_parallel_dbs(db):\n",
    "    parallel_dbs = list()\n",
    "    for i in range(len(db)):\n",
    "        pdb = get_parallel_db(db, i)\n",
    "        parallel_dbs.append(pdb)\n",
    "    return parallel_dbs"
   ]
  },
  {
   "cell_type": "code",
   "execution_count": 14,
   "metadata": {},
   "outputs": [],
   "source": [
    "def create_db_and_parallels(num_entries):\n",
    "    db = torch.rand(num_entries) > 0.5\n",
    "    return db, get_parallel_dbs(db)"
   ]
  },
  {
   "cell_type": "code",
   "execution_count": 15,
   "metadata": {},
   "outputs": [
    {
     "name": "stdout",
     "output_type": "stream",
     "text": [
      "tensor([0, 1, 0], dtype=torch.uint8)\n"
     ]
    }
   ],
   "source": [
    "db, parallel_dbs = create_db_and_parallels(3)\n",
    "print(db)"
   ]
  },
  {
   "cell_type": "markdown",
   "metadata": {},
   "source": [
    "# Lesson: Towards Evaluating The Differential Privacy of a Function\n",
    "\n",
    "Intuitively, we want to be able to query our database and evaluate whether or not the result of the query is leaking \"private\" information. As mentioned previously, this is about evaluating whether the output of a query changes when we remove someone from the database. Specifically, we want to evaluate the *maximum* amount the query changes when someone is removed (maximum over all possible people who could be removed). So, in order to evaluate how much privacy is leaked, we're going to iterate over each person in the database and measure the difference in the output of the query relative to when we query the entire database. \n",
    "\n",
    "Just for the sake of argument, let's make our first \"database query\" a simple sum. Aka, we're going to count the number of 1s in the database."
   ]
  },
  {
   "cell_type": "code",
   "execution_count": 16,
   "metadata": {},
   "outputs": [],
   "source": [
    "db, pdbs = create_db_and_parallels(5000)"
   ]
  },
  {
   "cell_type": "code",
   "execution_count": 17,
   "metadata": {},
   "outputs": [],
   "source": [
    "def query(db):\n",
    "    return db.sum()"
   ]
  },
  {
   "cell_type": "code",
   "execution_count": 18,
   "metadata": {},
   "outputs": [],
   "source": [
    "full_db_result = query(db)"
   ]
  },
  {
   "cell_type": "code",
   "execution_count": 19,
   "metadata": {},
   "outputs": [],
   "source": [
    "sensitivity = 0\n",
    "for pdb in pdbs:\n",
    "    pdb_result = query(pdb)\n",
    "    \n",
    "    db_distance = torch.abs(pdb_result - full_db_result)\n",
    "    \n",
    "    if(db_distance > sensitivity):\n",
    "        sensitivity = db_distance"
   ]
  },
  {
   "cell_type": "code",
   "execution_count": 20,
   "metadata": {},
   "outputs": [
    {
     "data": {
      "text/plain": [
       "tensor(1)"
      ]
     },
     "execution_count": 20,
     "metadata": {},
     "output_type": "execute_result"
    }
   ],
   "source": [
    "sensitivity"
   ]
  },
  {
   "cell_type": "markdown",
   "metadata": {},
   "source": [
    "# Project - Evaluating the Privacy of a Function\n",
    "\n",
    "In the last section, we measured the difference between each parallel db's query result and the query result for the entire database and then calculated the max value (which was 1). This value is called \"sensitivity\", and it corresponds to the function we chose for the query. Namely, the \"sum\" query will always have a sensitivity of exactly 1. However, we can also calculate sensitivity for other functions as well.\n",
    "\n",
    "Let's try to calculate sensitivity for the \"mean\" function."
   ]
  },
  {
   "cell_type": "code",
   "execution_count": 1,
   "metadata": {},
   "outputs": [],
   "source": [
    "# try this project here!"
   ]
  },
  {
   "cell_type": "code",
   "execution_count": 21,
   "metadata": {},
   "outputs": [],
   "source": [
    "def sensitivity(query, n_entries = 1000):\n",
    "    db, pdbs = create_db_and_parallels(n_entries)\n",
    "    full_db_res = query(db)\n",
    "    s = 0\n",
    "    for pdb in pdbs:\n",
    "        pdb_res = torch.abs(query(pdb) - full_db_res)\n",
    "        if pdb_res > s:\n",
    "            s = pdb_res\n",
    "    return s\n"
   ]
  },
  {
   "cell_type": "code",
   "execution_count": 32,
   "metadata": {},
   "outputs": [
    {
     "data": {
      "text/plain": [
       "tensor(1)"
      ]
     },
     "execution_count": 32,
     "metadata": {},
     "output_type": "execute_result"
    }
   ],
   "source": [
    "sensitivity(query, 100)"
   ]
  },
  {
   "cell_type": "code",
   "execution_count": 26,
   "metadata": {},
   "outputs": [],
   "source": [
    "def query2(db):\n",
    "    return db.float().mean()"
   ]
  },
  {
   "cell_type": "code",
   "execution_count": 31,
   "metadata": {},
   "outputs": [
    {
     "data": {
      "text/plain": [
       "tensor(0.0055)"
      ]
     },
     "execution_count": 31,
     "metadata": {},
     "output_type": "execute_result"
    }
   ],
   "source": [
    "sensitivity(query2, 100)"
   ]
  },
  {
   "cell_type": "code",
   "execution_count": null,
   "metadata": {},
   "outputs": [],
   "source": []
  },
  {
   "cell_type": "code",
   "execution_count": null,
   "metadata": {},
   "outputs": [],
   "source": []
  },
  {
   "cell_type": "code",
   "execution_count": null,
   "metadata": {},
   "outputs": [],
   "source": []
  },
  {
   "cell_type": "markdown",
   "metadata": {},
   "source": [
    "Wow! That sensitivity is WAY lower. Note the intuition here. \"Sensitivity\" is measuring how sensitive the output of the query is to a person being removed from the database. For a simple sum, this is always 1, but for the mean, removing a person is going to change the result of the query by rougly 1 divided by the size of the database (which is much smaller). Thus, \"mean\" is a VASTLY less \"sensitive\" function (query) than SUM."
   ]
  },
  {
   "cell_type": "markdown",
   "metadata": {},
   "source": [
    "# Project: Calculate L1 Sensitivity For Threshold\n",
    "\n",
    "In this first project, I want you to calculate the sensitivty for the \"threshold\" function. \n",
    "\n",
    "- First compute the sum over the database (i.e. sum(db)) and return whether that sum is greater than a certain threshold.\n",
    "- Then, I want you to create databases of size 10 and threshold of 5 and calculate the sensitivity of the function. \n",
    "- Finally, re-initialize the database 10 times and calculate the sensitivity each time."
   ]
  },
  {
   "cell_type": "code",
   "execution_count": 70,
   "metadata": {},
   "outputs": [],
   "source": [
    "# try this project here!\n",
    "def queryThreshold(db):\n",
    "    threshold = 5.\n",
    "    # print(db.float().sum() > threshold)\n",
    "    return (db.float().sum() > threshold).float()"
   ]
  },
  {
   "cell_type": "code",
   "execution_count": 71,
   "metadata": {},
   "outputs": [
    {
     "data": {
      "text/plain": [
       "0"
      ]
     },
     "execution_count": 71,
     "metadata": {},
     "output_type": "execute_result"
    }
   ],
   "source": [
    "sensitivity(queryThreshold, 10)"
   ]
  },
  {
   "cell_type": "code",
   "execution_count": 73,
   "metadata": {},
   "outputs": [
    {
     "name": "stdout",
     "output_type": "stream",
     "text": [
      "0\n",
      "0\n",
      "0\n",
      "0\n",
      "0\n",
      "0\n",
      "0\n",
      "0\n",
      "0\n",
      "0\n",
      "0\n",
      "0\n",
      "tensor(1.)\n",
      "0\n",
      "tensor(1.)\n",
      "tensor(1.)\n",
      "tensor(1.)\n",
      "0\n",
      "0\n"
     ]
    }
   ],
   "source": [
    "for i in range(19):\n",
    "    print(sensitivity(queryThreshold, 10))"
   ]
  },
  {
   "cell_type": "code",
   "execution_count": null,
   "metadata": {},
   "outputs": [],
   "source": []
  },
  {
   "cell_type": "markdown",
   "metadata": {},
   "source": [
    "# Lesson: A Basic Differencing Attack\n",
    "\n",
    "Sadly none of the functions we've looked at so far are differentially private (despite them having varying levels of sensitivity). The most basic type of attack can be done as follows.\n",
    "\n",
    "Let's say we wanted to figure out a specific person's value in the database. All we would have to do is query for the sum of the entire database and then the sum of the entire database without that person!\n",
    "\n",
    "# Project: Perform a Differencing Attack on Row 10\n",
    "\n",
    "In this project, I want you to construct a database and then demonstrate how you can use two different sum queries to explose the value of the person represented by row 10 in the database (note, you'll need to use a database with at least 10 rows)"
   ]
  },
  {
   "cell_type": "code",
   "execution_count": 129,
   "metadata": {},
   "outputs": [],
   "source": [
    "# try this project here!\n",
    "def create_db_and_parallels(num_entries):\n",
    "    db = torch.round(torch.rand(num_entries) * 100)\n",
    "    return db, get_parallel_dbs(db)"
   ]
  },
  {
   "cell_type": "code",
   "execution_count": 132,
   "metadata": {},
   "outputs": [
    {
     "name": "stdout",
     "output_type": "stream",
     "text": [
      "tensor([10., 91., 74., 49., 39., 18., 58., 18., 29., 32., 46., 94., 62., 75.,\n",
      "        88.])\n"
     ]
    }
   ],
   "source": [
    "n_entries = 15\n",
    "db, parallel_dbs = create_db_and_parallels(n_entries)\n",
    "db_without_row10 = parallel_dbs[9]\n",
    "print(db)"
   ]
  },
  {
   "cell_type": "code",
   "execution_count": 133,
   "metadata": {},
   "outputs": [
    {
     "name": "stdout",
     "output_type": "stream",
     "text": [
      "Row 10 value:  tensor(32.)\n",
      "Not differentiably private!\n"
     ]
    }
   ],
   "source": [
    "#Attack with sum query\n",
    "def querySum(db):\n",
    "    return db.float().sum()\n",
    "row10_value = querySum(db) - querySum(db_without_row10)\n",
    "print('Row 10 value: ', row10_value)\n",
    "print('Not differentiably private!' if row10_value == db[9].float() else 'Differentiably private')"
   ]
  },
  {
   "cell_type": "code",
   "execution_count": 134,
   "metadata": {},
   "outputs": [
    {
     "name": "stdout",
     "output_type": "stream",
     "text": [
      "Row 10 value:  tensor(32.)\n",
      "Not differentiably private!\n"
     ]
    }
   ],
   "source": [
    "#Attack with mean query\n",
    "def queryMean(db):\n",
    "    return db.float().mean()\n",
    "row10_value = (queryMean(db)*n_entries - queryMean(db_without_row10)*(n_entries-1)) \n",
    "print('Row 10 value: ', row10_value)\n",
    "print('Not differentiably private!' if row10_value == db[9].float() else 'Differentiably private')"
   ]
  },
  {
   "cell_type": "code",
   "execution_count": 136,
   "metadata": {},
   "outputs": [],
   "source": [
    "def queryThreshold(db, threshold):\n",
    "    return (db.float().sum() > threshold).float()\n",
    "#def getThresholdQuery(threshold):\n",
    "    #return lambda db: db.float().sum() > threshold"
   ]
  },
  {
   "cell_type": "code",
   "execution_count": 138,
   "metadata": {},
   "outputs": [
    {
     "data": {
      "text/plain": [
       "tensor(1.)"
      ]
     },
     "execution_count": 138,
     "metadata": {},
     "output_type": "execute_result"
    }
   ],
   "source": [
    "queryThreshold(db, 750)"
   ]
  },
  {
   "cell_type": "code",
   "execution_count": 142,
   "metadata": {},
   "outputs": [
    {
     "name": "stdout",
     "output_type": "stream",
     "text": [
      "Row 10 value:  32\n",
      "Not differentiably private!\n"
     ]
    }
   ],
   "source": [
    "#Attack with threshold query\n",
    "t = 0\n",
    "#while queryThreshold(db, t) == queryThreshold(db_without_row10, t):\n",
    "while queryThreshold(db_without_row10, t) != 0:\n",
    "    t += 1\n",
    "t1 = t\n",
    "#while queryThreshold(db, t) != queryThreshold(db_without_row10, t):\n",
    "while queryThreshold(db, t) != 0:\n",
    "    t += 1\n",
    "t2 = t\n",
    "row10_value = t2 - t1\n",
    "print('Row 10 value: ', row10_value)\n",
    "print('Not differentiably private!' if row10_value == db[9].float() else 'Differentiably private')"
   ]
  },
  {
   "cell_type": "code",
   "execution_count": null,
   "metadata": {},
   "outputs": [],
   "source": []
  },
  {
   "cell_type": "markdown",
   "metadata": {},
   "source": [
    "# Project: Local Differential Privacy\n",
    "\n",
    "As you can see, the basic sum query is not differentially private at all! In truth, differential privacy always requires a form of randomness added to the query. Let me show you what I mean.\n",
    "\n",
    "### Randomized Response (Local Differential Privacy)\n",
    "\n",
    "Let's say I have a group of people I wish to survey about a very taboo behavior which I think they will lie about (say, I want to know if they have ever committed a certain kind of crime). I'm not a policeman, I'm just trying to collect statistics to understand the higher level trend in society. So, how do we do this? One technique is to add randomness to each person's response by giving each person the following instructions (assuming I'm asking a simple yes/no question):\n",
    "\n",
    "- Flip a coin 2 times.\n",
    "- If the first coin flip is heads, answer honestly\n",
    "- If the first coin flip is tails, answer according to the second coin flip (heads for yes, tails for no)!\n",
    "\n",
    "Thus, each person is now protected with \"plausible deniability\". If they answer \"Yes\" to the question \"have you committed X crime?\", then it might becasue they actually did, or it might be becasue they are answering according to a random coin flip. Each person has a high degree of protection. Furthermore, we can recover the underlying statistics with some accuracy, as the \"true statistics\" are simply averaged with a 50% probability. Thus, if we collect a bunch of samples and it turns out that 60% of people answer yes, then we know that the TRUE distribution is actually centered around 70%, because 70% averaged wtih 50% (a coin flip) is 60% which is the result we obtained. \n",
    "\n",
    "However, it should be noted that, especially when we only have a few samples, the this comes at the cost of accuracy. This tradeoff exists across all of Differential Privacy. The greater the privacy protection (plausible deniability) the less accurate the results. \n",
    "\n",
    "Let's implement this local DP for our database before!"
   ]
  },
  {
   "cell_type": "code",
   "execution_count": 21,
   "metadata": {},
   "outputs": [],
   "source": [
    "# try this project here!\n",
    "def queryMean(db):\n",
    "    return db.float().mean()\n",
    "def create_db(num_entries, prob1 = 0.5):\n",
    "    return torch.rand(num_entries) < prob1"
   ]
  },
  {
   "cell_type": "code",
   "execution_count": 22,
   "metadata": {},
   "outputs": [
    {
     "data": {
      "text/plain": [
       "tensor([1, 0, 0, 1, 1, 1, 1, 0, 0, 1, 1, 1, 1, 1, 1, 0, 0, 0, 0, 1, 1, 1, 0, 1,\n",
       "        0, 1, 1, 0, 1, 1, 1, 1, 1, 0, 1, 1, 0, 0, 1, 1, 1, 1, 1, 1, 1, 1, 1, 1,\n",
       "        1, 1, 1, 1, 1, 1, 1, 0, 1, 1, 1, 1, 1, 0, 1, 0, 1, 0, 1, 0, 0, 1, 1, 0,\n",
       "        1, 1, 1, 0, 0, 1, 1, 1, 1, 1, 0, 1, 1, 0, 0, 1, 1, 1, 1, 1, 0, 0, 1, 1,\n",
       "        1, 1, 0, 1], dtype=torch.uint8)"
      ]
     },
     "execution_count": 22,
     "metadata": {},
     "output_type": "execute_result"
    }
   ],
   "source": [
    "num_entries = 100\n",
    "db = create_db(num_entries, 0.7)\n",
    "db"
   ]
  },
  {
   "cell_type": "code",
   "execution_count": 48,
   "metadata": {},
   "outputs": [
    {
     "data": {
      "text/plain": [
       "tensor(0.7100)"
      ]
     },
     "execution_count": 48,
     "metadata": {},
     "output_type": "execute_result"
    }
   ],
   "source": [
    "true_result = queryMean(db)\n",
    "true_result"
   ]
  },
  {
   "cell_type": "code",
   "execution_count": 29,
   "metadata": {},
   "outputs": [
    {
     "data": {
      "text/plain": [
       "tensor([1, 1, 0, 1, 0, 0, 1, 0, 1, 0, 0, 0, 0, 0, 1, 0, 0, 1, 1, 1, 1, 0, 1, 0,\n",
       "        1, 1, 0, 0, 0, 1, 0, 1, 0, 1, 1, 0, 1, 1, 1, 1, 1, 1, 1, 0, 0, 0, 1, 1,\n",
       "        0, 0, 1, 0, 0, 1, 0, 1, 1, 1, 0, 1, 0, 1, 0, 0, 1, 0, 0, 0, 0, 1, 1, 1,\n",
       "        1, 0, 0, 1, 0, 1, 0, 1, 1, 0, 1, 1, 1, 1, 1, 0, 0, 1, 1, 0, 0, 1, 0, 1,\n",
       "        0, 1, 1, 1], dtype=torch.uint8)"
      ]
     },
     "execution_count": 29,
     "metadata": {},
     "output_type": "execute_result"
    }
   ],
   "source": [
    "coin_flip_1 = torch.rand(num_entries) < 0.5\n",
    "coin_flip_1"
   ]
  },
  {
   "cell_type": "code",
   "execution_count": 30,
   "metadata": {},
   "outputs": [
    {
     "data": {
      "text/plain": [
       "tensor([1, 0, 1, 0, 1, 1, 1, 0, 1, 1, 1, 1, 0, 1, 0, 1, 1, 1, 0, 1, 0, 0, 0, 0,\n",
       "        0, 1, 0, 0, 0, 0, 1, 0, 1, 1, 0, 1, 0, 0, 1, 0, 1, 0, 0, 1, 0, 1, 0, 0,\n",
       "        0, 0, 1, 0, 0, 0, 0, 0, 1, 0, 1, 0, 1, 1, 0, 0, 0, 0, 0, 0, 0, 1, 0, 1,\n",
       "        1, 1, 1, 1, 0, 1, 1, 1, 1, 1, 0, 0, 0, 0, 1, 0, 1, 1, 0, 1, 0, 1, 0, 0,\n",
       "        1, 1, 1, 1], dtype=torch.uint8)"
      ]
     },
     "execution_count": 30,
     "metadata": {},
     "output_type": "execute_result"
    }
   ],
   "source": [
    "coin_flip_2 = torch.rand(num_entries) < 0.5\n",
    "coin_flip_2"
   ]
  },
  {
   "cell_type": "code",
   "execution_count": 41,
   "metadata": {},
   "outputs": [
    {
     "data": {
      "text/plain": [
       "tensor([1, 0, 1, 1, 1, 1, 1, 0, 0, 1, 1, 1, 0, 1, 1, 1, 1, 0, 0, 1, 1, 0, 0, 0,\n",
       "        0, 1, 0, 0, 0, 1, 1, 1, 1, 0, 1, 1, 0, 0, 1, 1, 1, 1, 1, 1, 0, 1, 1, 1,\n",
       "        0, 0, 1, 0, 0, 1, 0, 0, 1, 1, 1, 1, 1, 0, 0, 0, 1, 0, 0, 0, 0, 1, 1, 0,\n",
       "        1, 1, 1, 0, 0, 1, 1, 1, 1, 1, 0, 1, 1, 0, 0, 0, 1, 1, 1, 1, 0, 0, 0, 1,\n",
       "        1, 1, 0, 1], dtype=torch.uint8)"
      ]
     },
     "execution_count": 41,
     "metadata": {},
     "output_type": "execute_result"
    }
   ],
   "source": [
    "augmented_db = (db * coin_flip_1) + ((1 - coin_flip_1) * coin_flip_2 )\n",
    "augmented_db"
   ]
  },
  {
   "cell_type": "code",
   "execution_count": 46,
   "metadata": {},
   "outputs": [
    {
     "name": "stdout",
     "output_type": "stream",
     "text": [
      "tensor(0.5900)\n",
      "tensor(0.6800)\n"
     ]
    }
   ],
   "source": [
    "augmented_result = queryMean(augmented_db)\n",
    "unskewed_resut = augmented_result * 2 - 0.5 #Remove noise\n",
    "print(augmented_result)\n",
    "print(unskewed_resut)"
   ]
  },
  {
   "cell_type": "code",
   "execution_count": 47,
   "metadata": {},
   "outputs": [
    {
     "name": "stdout",
     "output_type": "stream",
     "text": [
      "With noise:  tensor(0.6800)\n",
      "Original:  tensor(0.7100)\n"
     ]
    }
   ],
   "source": [
    "print(\"With noise: \", unskewed_resut)\n",
    "print(\"Original: \", true_result)"
   ]
  },
  {
   "cell_type": "code",
   "execution_count": null,
   "metadata": {},
   "outputs": [],
   "source": []
  },
  {
   "cell_type": "markdown",
   "metadata": {},
   "source": [
    "# Project: Varying Amounts of Noise\n",
    "\n",
    "In this project, I want you to augment the randomized response query (the one we just wrote) to allow for varying amounts of randomness to be added. Specifically, I want you to bias the coin flip to be higher or lower and then run the same experiment. \n",
    "\n",
    "Note - this one is a bit tricker than you might expect. You need to both adjust the likelihood of the first coin flip AND the de-skewing at the end (where we create the \"augmented_result\" variable)."
   ]
  },
  {
   "cell_type": "code",
   "execution_count": 146,
   "metadata": {},
   "outputs": [
    {
     "data": {
      "text/plain": [
       "tensor(0.7489)"
      ]
     },
     "execution_count": 146,
     "metadata": {},
     "output_type": "execute_result"
    }
   ],
   "source": [
    "# try this project here!\n",
    "num_entries = 10000\n",
    "db = create_db(num_entries, 0.75)\n",
    "\n",
    "true_result = queryMean(db)\n",
    "true_result"
   ]
  },
  {
   "cell_type": "code",
   "execution_count": 147,
   "metadata": {},
   "outputs": [],
   "source": [
    "def get_augmented_db(db, p1, p2):\n",
    "    n = len(db)\n",
    "    coin_flip_1 = torch.rand(n) < p1\n",
    "    coin_flip_2 = torch.rand(n) < p2\n",
    "    augmented_db = (db * coin_flip_1) + ((1 - coin_flip_1) * coin_flip_2 )\n",
    "    return augmented_db"
   ]
  },
  {
   "cell_type": "code",
   "execution_count": 148,
   "metadata": {},
   "outputs": [],
   "source": [
    "noise = 0.2\n",
    "p1 = noise\n",
    "p2 = 0.5\n",
    "augmented_db = get_augmented_db(db, p1, p2)"
   ]
  },
  {
   "cell_type": "code",
   "execution_count": 149,
   "metadata": {},
   "outputs": [
    {
     "data": {
      "text/plain": [
       "tensor(0.5487)"
      ]
     },
     "execution_count": 149,
     "metadata": {},
     "output_type": "execute_result"
    }
   ],
   "source": [
    "augmented_result = queryMean(augmented_db)\n",
    "augmented_result"
   ]
  },
  {
   "cell_type": "code",
   "execution_count": 150,
   "metadata": {},
   "outputs": [],
   "source": [
    "# Inferred this formula in my physical notebook\n",
    "def unskew_result(augmented_result, p1, p2):\n",
    "    return (augmented_result + p1*p2 - p2)/p1"
   ]
  },
  {
   "cell_type": "code",
   "execution_count": null,
   "metadata": {},
   "outputs": [],
   "source": []
  },
  {
   "cell_type": "code",
   "execution_count": 151,
   "metadata": {},
   "outputs": [
    {
     "data": {
      "text/plain": [
       "tensor(0.7435)"
      ]
     },
     "execution_count": 151,
     "metadata": {},
     "output_type": "execute_result"
    }
   ],
   "source": [
    "final = unskew_result(augmented_result, p1, p2)\n",
    "final"
   ]
  },
  {
   "cell_type": "code",
   "execution_count": 152,
   "metadata": {},
   "outputs": [],
   "source": [
    "#This does the same but all in one\n",
    "def local_diff_privacy_query(db, noise, p2=0.5):\n",
    "    p1 = noise\n",
    "    augmented_db = get_augmented_db(db, p1, p2)\n",
    "    augmented_result = queryMean(augmented_db)\n",
    "    return unskew_result(augmented_result, p1, p2)"
   ]
  },
  {
   "cell_type": "code",
   "execution_count": 153,
   "metadata": {},
   "outputs": [
    {
     "data": {
      "text/plain": [
       "tensor(0.7660)"
      ]
     },
     "execution_count": 153,
     "metadata": {},
     "output_type": "execute_result"
    }
   ],
   "source": [
    "final = global_diff_privacy_query(db, noise, p2=0.5)\n",
    "final"
   ]
  },
  {
   "cell_type": "code",
   "execution_count": null,
   "metadata": {},
   "outputs": [],
   "source": []
  },
  {
   "cell_type": "markdown",
   "metadata": {},
   "source": [
    "# Lesson: The Formal Definition of Differential Privacy\n",
    "\n",
    "The previous method of adding noise was called \"Local Differentail Privacy\" because we added noise to each datapoint individually. This is necessary for some situations wherein the data is SO sensitive that individuals do not trust noise to be added later. However, it comes at a very high cost in terms of accuracy. \n",
    "\n",
    "However, alternatively we can add noise AFTER data has been aggregated by a function. This kind of noise can allow for similar levels of protection with a lower affect on accuracy. However, participants must be able to trust that no-one looked at their datapoints _before_ the aggregation took place. In some situations this works out well, in others (such as an individual hand-surveying a group of people), this is less realistic.\n",
    "\n",
    "Nevertheless, global differential privacy is incredibly important because it allows us to perform differential privacy on smaller groups of individuals with lower amounts of noise. Let's revisit our sum functions."
   ]
  },
  {
   "cell_type": "code",
   "execution_count": 40,
   "metadata": {},
   "outputs": [
    {
     "data": {
      "text/plain": [
       "tensor(40.)"
      ]
     },
     "execution_count": 40,
     "metadata": {},
     "output_type": "execute_result"
    }
   ],
   "source": [
    "db, pdbs = create_db_and_parallels(100)\n",
    "\n",
    "def query(db):\n",
    "    return torch.sum(db.float())\n",
    "\n",
    "def M(db):\n",
    "    query(db) + noise\n",
    "\n",
    "query(db)"
   ]
  },
  {
   "cell_type": "markdown",
   "metadata": {},
   "source": [
    "So the idea here is that we want to add noise to the output of our function. We actually have two different kinds of noise we can add - Laplacian Noise or Gaussian Noise. However, before we do so at this point we need to dive into the formal definition of Differential Privacy.\n",
    "\n",
    "![alt text](dp_formula.png \"Title\")"
   ]
  },
  {
   "cell_type": "markdown",
   "metadata": {},
   "source": [
    "_Image From: \"The Algorithmic Foundations of Differential Privacy\" - Cynthia Dwork and Aaron Roth - https://www.cis.upenn.edu/~aaroth/Papers/privacybook.pdf_"
   ]
  },
  {
   "cell_type": "markdown",
   "metadata": {},
   "source": [
    "This definition does not _create_ differential privacy, instead **it is a measure of how much privacy is afforded by a query M**. Specifically, it's a comparison between running the query M on a database (x) and a parallel database (y). As you remember, parallel databases are defined to be the same as a full database (x) with one entry/person removed.\n",
    "\n",
    "Thus, this definition says that FOR ALL parallel databases, the maximum distance between a query on database (x) and the same query on database (y) will be e^epsilon, but that occasionally this constraint won't hold with probability delta. Thus, this theorem is called \"epsilon delta\" differential privacy.\n",
    "\n",
    "# Epsilon\n",
    "\n",
    "Let's unpack the intuition of this for a moment. \n",
    "\n",
    "Epsilon Zero: If a query satisfied this inequality where epsilon was set to 0, then that would mean that the query for all parallel databases outputed the exact same value as the full database. As you may remember, when we calculated the \"threshold\" function, often the Sensitivity was 0. In that case, the epsilon also happened to be zero.\n",
    "\n",
    "Epsilon One: If a query satisfied this inequality with epsilon 1, then the maximum distance between all queries would be 1 - or more precisely - the maximum distance between the two random distributions M(x) and M(y) is 1 (because all these queries have some amount of randomness in them, just like we observed in the last section).\n",
    "\n",
    "# Delta\n",
    "\n",
    "Delta is basically the probability that epsilon breaks. Namely, sometimes the epsilon is different for some queries than it is for others. For example, you may remember when we were calculating the sensitivity of threshold, most of the time sensitivity was 0 but sometimes it was 1. Thus, we could calculate this as \"epsilon zero but non-zero delta\" which would say that epsilon is perfect except for some probability of the time when it's arbitrarily higher. Note that this expression doesn't represent the full tradeoff between epsilon and delta."
   ]
  },
  {
   "cell_type": "markdown",
   "metadata": {},
   "source": [
    "# Lesson: How To Add Noise for Global Differential Privacy\n",
    "\n",
    "In this lesson, we're going to learn about how to take a query and add varying amounts of noise so that it satisfies a certain degree of differential privacy. In particular, we're going to leave behind the Local Differential privacy previously discussed and instead opt to focus on Global differential privacy. \n",
    "\n",
    "So, to sum up, this lesson is about adding noise to the output of our query so that it satisfies a certain epsilon-delta differential privacy threshold.\n",
    "\n",
    "There are two kinds of noise we can add - Gaussian Noise or Laplacian Noise. Generally speaking Laplacian is better, but both are still valid. Now to the hard question...\n",
    "\n",
    "### How much noise should we add?\n",
    "\n",
    "The amount of noise necessary to add to the output of a query is a function of four things:\n",
    "\n",
    "- the type of noise (Gaussian/Laplacian)\n",
    "- the sensitivity of the query/function\n",
    "- the desired epsilon (ε)\n",
    "- the desired delta (δ)\n",
    "\n",
    "Thus, for each type of noise we're adding, we have different way of calculating how much to add as a function of sensitivity, epsilon, and delta. We're going to focus on Laplacian noise. Laplacian noise is increased/decreased according to a \"scale\" parameter b. We choose \"b\" based on the following formula.\n",
    "\n",
    "b = sensitivity(query) / epsilon\n",
    "\n",
    "In other words, if we set b to be this value, then we know that we will have a privacy leakage of <= epsilon. Furthermore, the nice thing about Laplace is that it guarantees this with delta == 0. There are some tunings where we can have very low epsilon where delta is non-zero, but we'll ignore them for now.\n",
    "\n",
    "### Querying Repeatedly\n",
    "\n",
    "- if we query the database multiple times - we can simply add the epsilons (Even if we change the amount of noise and their epsilons are not the same)."
   ]
  },
  {
   "cell_type": "code",
   "execution_count": 33,
   "metadata": {},
   "outputs": [
    {
     "data": {
      "text/plain": [
       "-0.3085699116584806"
      ]
     },
     "execution_count": 33,
     "metadata": {},
     "output_type": "execute_result"
    }
   ],
   "source": [
    "import numpy as np\n",
    "np.random.laplace(0)\n"
   ]
  },
  {
   "cell_type": "markdown",
   "metadata": {},
   "source": [
    "# Project: Create a Differentially Private Query\n",
    "\n",
    "In this project, I want you to take what you learned in the previous lesson and create a query function which sums over the database and adds just the right amount of noise such that it satisfies an epsilon constraint. Write a query for both \"sum\" and for \"mean\". Ensure that you use the correct sensitivity measures for both."
   ]
  },
  {
   "cell_type": "code",
   "execution_count": 35,
   "metadata": {},
   "outputs": [
    {
     "data": {
      "text/plain": [
       "tensor([0, 0, 0, 1, 1, 0, 1, 1, 1, 0, 1, 0, 1, 0, 1, 1, 0, 1, 1, 1, 1, 1, 0, 1,\n",
       "        0, 1, 1, 1, 1, 1, 1, 1, 0, 1, 1, 1, 0, 1, 0, 0, 0, 0, 1, 1, 1, 0, 0, 1,\n",
       "        1, 1, 1, 1, 1, 1, 0, 1, 1, 0, 0, 0, 0, 0, 1, 0, 1, 1, 1, 0, 0, 0, 0, 0,\n",
       "        0, 1, 0, 0, 0, 0, 1, 0, 0, 0, 1, 1, 0, 0, 1, 0, 0, 0, 1, 1, 1, 0, 0, 1,\n",
       "        1, 0, 0, 1], dtype=torch.uint8)"
      ]
     },
     "execution_count": 35,
     "metadata": {},
     "output_type": "execute_result"
    }
   ],
   "source": [
    "# try this project here!\n",
    "num_entries = 100\n",
    "db = torch.rand(num_entries) > 0.5\n",
    "db"
   ]
  },
  {
   "cell_type": "code",
   "execution_count": 13,
   "metadata": {},
   "outputs": [],
   "source": [
    "def getLaplacianNoise(sensitivity, epsilon):\n",
    "    b = sensitivity / epsilon\n",
    "    return np.random.laplace(0, b, 1)\n",
    "\n",
    "# Gets the query with laplacian noise\n",
    "def laplacian_mechanism(db, query, sensitivity, epsilon):\n",
    "    noise = getLaplacianNoise(sensitivity, epsilon)\n",
    "    return query(db) + torch.tensor(noise)\n"
   ]
  },
  {
   "cell_type": "code",
   "execution_count": 52,
   "metadata": {},
   "outputs": [],
   "source": [
    "totalEpsilon = 1"
   ]
  },
  {
   "cell_type": "code",
   "execution_count": 62,
   "metadata": {},
   "outputs": [
    {
     "name": "stdout",
     "output_type": "stream",
     "text": [
      "True query result:  tensor(53.)\n",
      "GDP query result:  tensor([60.0834], dtype=torch.float64)\n"
     ]
    }
   ],
   "source": [
    "def querySum(db):    \n",
    "    return db.float().sum()\n",
    "\n",
    "sumSensitivity = 1  # Calculated in previous lesson\n",
    "\n",
    "noisedSum = laplacian_mechanism(db, querySum, sumSensitivity, totalEpsilon/2)\n",
    "print(\"True query result: \", querySum(db))\n",
    "print(\"GDP query result: \", noisedSum)\n"
   ]
  },
  {
   "cell_type": "code",
   "execution_count": 68,
   "metadata": {},
   "outputs": [
    {
     "name": "stdout",
     "output_type": "stream",
     "text": [
      "True query result:  tensor(0.5300)\n",
      "GDP query result:  tensor([0.5414], dtype=torch.float64)\n"
     ]
    }
   ],
   "source": [
    "def queryMean(db):    \n",
    "    return db.float().mean()\n",
    "\n",
    "meanSensitivity = 0.0055  # Calculated in previous lesson\n",
    "\n",
    "noisedMean = laplacian_mechanism(db, queryMean, meanSensitivity, totalEpsilon/2)\n",
    "print(\"True query result: \", queryMean(db))\n",
    "print(\"GDP query result: \", noisedMean)"
   ]
  },
  {
   "cell_type": "code",
   "execution_count": 70,
   "metadata": {},
   "outputs": [
    {
     "name": "stdout",
     "output_type": "stream",
     "text": [
      "Epsilon=0.5:  tensor([51.9873], dtype=torch.float64)\n",
      "Epsilon=0.005:  tensor([315.7897], dtype=torch.float64)\n"
     ]
    }
   ],
   "source": [
    "#Small epsilon\n",
    "print(\"Epsilon=0.5: \", laplacian_mechanism(db, querySum, sumSensitivity, 0.5))\n",
    "print(\"Epsilon=0.005: \", laplacian_mechanism(db, querySum, sumSensitivity, 0.005))\n",
    "\n"
   ]
  },
  {
   "cell_type": "code",
   "execution_count": null,
   "metadata": {},
   "outputs": [],
   "source": [
    "# As you can see, with less leakage (lower epsilon) the noise is too big"
   ]
  },
  {
   "cell_type": "code",
   "execution_count": null,
   "metadata": {},
   "outputs": [],
   "source": []
  },
  {
   "cell_type": "code",
   "execution_count": null,
   "metadata": {},
   "outputs": [],
   "source": []
  },
  {
   "cell_type": "code",
   "execution_count": null,
   "metadata": {},
   "outputs": [],
   "source": []
  },
  {
   "cell_type": "code",
   "execution_count": null,
   "metadata": {},
   "outputs": [],
   "source": []
  },
  {
   "cell_type": "markdown",
   "metadata": {},
   "source": [
    "# Lesson: Differential Privacy for Deep Learning\n",
    "\n",
    "So in the last lessons you may have been wondering - what does all of this have to do with Deep Learning? Well, these same techniques we were just studying form the core primitives for how Differential Privacy provides guarantees in the context of Deep Learning. \n",
    "\n",
    "Previously, we defined perfect privacy as \"a query to a database returns the same value even if we remove any person from the database\", and used this intuition in the description of epsilon/delta. In the context of deep learning we have a similar standard.\n",
    "\n",
    "Training a model on a dataset should return the same model even if we remove any person from the dataset.\n",
    "\n",
    "Thus, we've replaced \"querying a database\" with \"training a model on a dataset\". In essence, the training process is a kind of query. However, one should note that this adds two points of complexity which database queries did not have:\n",
    "\n",
    "    1. do we always know where \"people\" are referenced in the dataset?\n",
    "    2. neural models rarely never train to the same output model, even on identical data\n",
    "\n",
    "The answer to (1) is to treat each training example as a single, separate person. Strictly speaking, this is often overly zealous as some training examples have no relevance to people and others may have multiple/partial (consider an image with multiple people contained within it). Thus, localizing exactly where \"people\" are referenced, and thus how much your model would change if people were removed, is challenging.\n",
    "\n",
    "The answer to (2) is also an open problem - but several interesitng proposals have been made. We're going to focus on one of the most popular proposals, PATE.\n",
    "\n",
    "## An Example Scenario: A Health Neural Network\n",
    "\n",
    "First we're going to consider a scenario - you work for a hospital and you have a large collection of images about your patients. However, you don't know what's in them. You would like to use these images to develop a neural network which can automatically classify them, however since your images aren't labeled, they aren't sufficient to train a classifier. \n",
    "\n",
    "However, being a cunning strategist, you realize that you can reach out to 10 partner hospitals which DO have annotated data. It is your hope to train your new classifier on their datasets so that you can automatically label your own. While these hospitals are interested in helping, they have privacy concerns regarding information about their patients. Thus, you will use the following technique to train a classifier which protects the privacy of patients in the other hospitals.\n",
    "\n",
    "- 1) You'll ask each of the 10 hospitals to train a model on their own datasets (All of which have the same kinds of labels)\n",
    "- 2) You'll then use each of the 10 partner models to predict on your local dataset, generating 10 labels for each of your datapoints\n",
    "- 3) Then, for each local data point (now with 10 labels), you will perform a DP query to generate the final true label. This query is a \"max\" function, where \"max\" is the most frequent label across the 10 labels. We will need to add laplacian noise to make this Differentially Private to a certain epsilon/delta constraint.\n",
    "- 4) Finally, we will retrain a new model on our local dataset which now has labels. This will be our final \"DP\" model.\n",
    "\n",
    "So, let's walk through these steps. I will assume you're already familiar with how to train/predict a deep neural network, so we'll skip steps 1 and 2 and work with example data. We'll focus instead on step 3, namely how to perform the DP query for each example using toy data.\n",
    "\n",
    "So, let's say we have 10,000 training examples, and we've got 10 labels for each example (from our 10 \"teacher models\" which were trained directly on private data). Each label is chosen from a set of 10 possible labels (categories) for each image."
   ]
  },
  {
   "cell_type": "code",
   "execution_count": 17,
   "metadata": {},
   "outputs": [],
   "source": [
    "import numpy as np"
   ]
  },
  {
   "cell_type": "code",
   "execution_count": 2,
   "metadata": {},
   "outputs": [],
   "source": [
    "num_teachers = 10 # we're working with 10 partner hospitals\n",
    "num_examples = 10000 # the size of OUR dataset\n",
    "num_labels = 10 # number of lablels for our classifier"
   ]
  },
  {
   "cell_type": "code",
   "execution_count": 3,
   "metadata": {},
   "outputs": [],
   "source": [
    "preds = (np.random.rand(num_teachers, num_examples) * num_labels).astype(int).transpose(1,0) # fake predictions"
   ]
  },
  {
   "cell_type": "code",
   "execution_count": 4,
   "metadata": {},
   "outputs": [],
   "source": [
    "new_labels = list()\n",
    "for an_image in preds:\n",
    "\n",
    "    label_counts = np.bincount(an_image, minlength=num_labels)\n",
    "\n",
    "    epsilon = 0.1\n",
    "    beta = 1 / epsilon\n",
    "\n",
    "    for i in range(len(label_counts)):\n",
    "        label_counts[i] += np.random.laplace(0, beta, 1)\n",
    "\n",
    "    new_label = np.argmax(label_counts)\n",
    "    \n",
    "    new_labels.append(new_label)"
   ]
  },
  {
   "cell_type": "code",
   "execution_count": 5,
   "metadata": {},
   "outputs": [],
   "source": [
    "# new_labels"
   ]
  },
  {
   "cell_type": "markdown",
   "metadata": {},
   "source": [
    "# PATE Analysis"
   ]
  },
  {
   "cell_type": "code",
   "execution_count": 6,
   "metadata": {},
   "outputs": [
    {
     "data": {
      "text/plain": [
       "9"
      ]
     },
     "execution_count": 6,
     "metadata": {},
     "output_type": "execute_result"
    }
   ],
   "source": [
    "labels = np.array([9, 9, 3, 6, 9, 9, 9, 9, 8, 2])\n",
    "counts = np.bincount(labels, minlength=10)\n",
    "query_result = np.argmax(counts)\n",
    "query_result"
   ]
  },
  {
   "cell_type": "code",
   "execution_count": 44,
   "metadata": {},
   "outputs": [
    {
     "name": "stderr",
     "output_type": "stream",
     "text": [
      "WARNING:tf_encrypted:Falling back to insecure randomness since the required custom op could not be found for the installed version of TensorFlow (1.13.1). Fix this by compiling custom ops.\n"
     ]
    }
   ],
   "source": [
    "from syft.frameworks.torch.differential_privacy import pate"
   ]
  },
  {
   "cell_type": "code",
   "execution_count": 45,
   "metadata": {},
   "outputs": [
    {
     "name": "stdout",
     "output_type": "stream",
     "text": [
      "Warning: May not have used enough values of l. Increase 'moments' variable and run again.\n"
     ]
    }
   ],
   "source": [
    "num_teachers, num_examples, num_labels = (100, 100, 10)\n",
    "preds = (np.random.rand(num_teachers, num_examples) * num_labels).astype(int) #fake preds\n",
    "indices = (np.random.rand(num_examples) * num_labels).astype(int) # true answers\n",
    "\n",
    "preds[:,0:10] *= 0\n",
    "\n",
    "data_dep_eps, data_ind_eps = pate.perform_analysis(teacher_preds=preds, indices=indices, noise_eps=0.1, delta=1e-5)\n",
    "\n",
    "assert data_dep_eps < data_ind_eps\n",
    "\n"
   ]
  },
  {
   "cell_type": "code",
   "execution_count": 9,
   "metadata": {},
   "outputs": [
    {
     "name": "stdout",
     "output_type": "stream",
     "text": [
      "Warning: May not have used enough values of l. Increase 'moments' variable and run again.\n",
      "Data Independent Epsilon: 11.756462732485115\n",
      "Data Dependent Epsilon: 1.52655213289881\n"
     ]
    }
   ],
   "source": [
    "data_dep_eps, data_ind_eps = pate.perform_analysis(teacher_preds=preds, indices=indices, noise_eps=0.1, delta=1e-5)\n",
    "print(\"Data Independent Epsilon:\", data_ind_eps)\n",
    "print(\"Data Dependent Epsilon:\", data_dep_eps)"
   ]
  },
  {
   "cell_type": "code",
   "execution_count": 10,
   "metadata": {},
   "outputs": [],
   "source": [
    "preds[:,0:50] *= 0"
   ]
  },
  {
   "cell_type": "code",
   "execution_count": 12,
   "metadata": {},
   "outputs": [
    {
     "name": "stdout",
     "output_type": "stream",
     "text": [
      "Data Independent Epsilon: 11.756462732485115\n",
      "Data Dependent Epsilon: 0.9029013677789843\n"
     ]
    }
   ],
   "source": [
    "data_dep_eps, data_ind_eps = pate.perform_analysis(teacher_preds=preds, indices=indices, noise_eps=0.1, delta=1e-5, moments=20)\n",
    "print(\"Data Independent Epsilon:\", data_ind_eps)\n",
    "print(\"Data Dependent Epsilon:\", data_dep_eps)"
   ]
  },
  {
   "cell_type": "code",
   "execution_count": null,
   "metadata": {},
   "outputs": [],
   "source": []
  },
  {
   "cell_type": "markdown",
   "metadata": {},
   "source": [
    "# Where to Go From Here\n",
    "\n",
    "\n",
    "Read:\n",
    "    - Algorithmic Foundations of Differential Privacy: https://www.cis.upenn.edu/~aaroth/Papers/privacybook.pdf\n",
    "    - Deep Learning with Differential Privacy: https://arxiv.org/pdf/1607.00133.pdf\n",
    "    - The Ethical Algorithm: https://www.amazon.com/Ethical-Algorithm-Science-Socially-Design/dp/0190948205\n",
    "   \n",
    "Topics:\n",
    "    - The Exponential Mechanism\n",
    "    - The Moment's Accountant\n",
    "    - Differentially Private Stochastic Gradient Descent\n",
    "\n",
    "Advice:\n",
    "    - For deployments - stick with public frameworks!\n",
    "    - Join the Differential Privacy Community\n",
    "    - Don't get ahead of yourself - DP is still in the early days"
   ]
  },
  {
   "cell_type": "code",
   "execution_count": null,
   "metadata": {},
   "outputs": [],
   "source": []
  },
  {
   "cell_type": "code",
   "execution_count": null,
   "metadata": {},
   "outputs": [],
   "source": []
  },
  {
   "cell_type": "markdown",
   "metadata": {},
   "source": [
    "# Section Project:\n",
    "\n",
    "For the final project for this section, you're going to train a DP model using this PATE method on the MNIST dataset, provided below."
   ]
  },
  {
   "cell_type": "code",
   "execution_count": 1,
   "metadata": {},
   "outputs": [
    {
     "data": {
      "text/plain": [
       "Dataset MNIST\n",
       "    Number of datapoints: 10000\n",
       "    Root location: ./data\n",
       "    Split: Test"
      ]
     },
     "execution_count": 1,
     "metadata": {},
     "output_type": "execute_result"
    }
   ],
   "source": [
    "# import torchvision.datasets as datasets\n",
    "from torchvision import transforms, datasets\n",
    "\n",
    "# Define a transform to normalize the data\n",
    "transform = transforms.Compose([\n",
    "    transforms.ToTensor()\n",
    "    #transforms.Normalize((0.5, 0.5, 0.5), (0.5, 0.5, 0.5))\n",
    "])\n",
    "\n",
    "# mnist_trainset = datasets.MNIST(root='./data', train=True, download=True, transform=None)\n",
    "mnist_trainset = datasets.MNIST(root='./data', train=True, download=True, transform=transform)\n",
    "mnist_testset = datasets.MNIST(root='./data', train=False, download=True, transform=transform)\n",
    "\n",
    "mnist_testset"
   ]
  },
  {
   "cell_type": "code",
   "execution_count": 2,
   "metadata": {},
   "outputs": [
    {
     "name": "stderr",
     "output_type": "stream",
     "text": [
      "C:\\Users\\edgarin\\.conda\\envs\\pysyft-env\\lib\\site-packages\\torchvision\\datasets\\mnist.py:53: UserWarning: train_data has been renamed data\n",
      "  warnings.warn(\"train_data has been renamed data\")\n",
      "C:\\Users\\edgarin\\.conda\\envs\\pysyft-env\\lib\\site-packages\\torchvision\\datasets\\mnist.py:43: UserWarning: train_labels has been renamed targets\n",
      "  warnings.warn(\"train_labels has been renamed targets\")\n"
     ]
    }
   ],
   "source": [
    "train_data = mnist_trainset.train_data\n",
    "train_targets = mnist_trainset.train_labels"
   ]
  },
  {
   "cell_type": "code",
   "execution_count": 3,
   "metadata": {},
   "outputs": [
    {
     "name": "stderr",
     "output_type": "stream",
     "text": [
      "C:\\Users\\edgarin\\.conda\\envs\\pysyft-env\\lib\\site-packages\\torchvision\\datasets\\mnist.py:58: UserWarning: test_data has been renamed data\n",
      "  warnings.warn(\"test_data has been renamed data\")\n",
      "C:\\Users\\edgarin\\.conda\\envs\\pysyft-env\\lib\\site-packages\\torchvision\\datasets\\mnist.py:48: UserWarning: test_labels has been renamed targets\n",
      "  warnings.warn(\"test_labels has been renamed targets\")\n"
     ]
    }
   ],
   "source": [
    "test_data = mnist_trainset.test_data\n",
    "test_targets = mnist_trainset.test_labels"
   ]
  },
  {
   "cell_type": "code",
   "execution_count": 63,
   "metadata": {},
   "outputs": [
    {
     "data": {
      "text/plain": [
       "torch.int32"
      ]
     },
     "execution_count": 63,
     "metadata": {},
     "output_type": "execute_result"
    }
   ],
   "source": [
    "#mnist_trainset.test_data.sum() == mnist_trainset.train_data.sum() True\n",
    "#mnist_testset.test_data.sum() == mnist_testset.train_data.sum() True\n",
    "#mnist_testset.test_data.shape"
   ]
  },
  {
   "cell_type": "code",
   "execution_count": 4,
   "metadata": {},
   "outputs": [
    {
     "data": {
      "text/plain": [
       "torch.Size([60000, 28, 28])"
      ]
     },
     "execution_count": 4,
     "metadata": {},
     "output_type": "execute_result"
    }
   ],
   "source": [
    "train_data.shape"
   ]
  },
  {
   "cell_type": "code",
   "execution_count": 5,
   "metadata": {},
   "outputs": [
    {
     "data": {
      "text/plain": [
       "torch.Size([60000, 28, 28])"
      ]
     },
     "execution_count": 5,
     "metadata": {},
     "output_type": "execute_result"
    }
   ],
   "source": [
    "test_data.shape"
   ]
  },
  {
   "cell_type": "code",
   "execution_count": 6,
   "metadata": {},
   "outputs": [
    {
     "data": {
      "text/plain": [
       "60000"
      ]
     },
     "execution_count": 6,
     "metadata": {},
     "output_type": "execute_result"
    }
   ],
   "source": [
    "len(mnist_trainset)"
   ]
  },
  {
   "cell_type": "code",
   "execution_count": 7,
   "metadata": {},
   "outputs": [],
   "source": [
    "import torch\n",
    "from torch import nn, optim\n",
    "import torch.nn.functional as F\n",
    "\n",
    "class Classifier(nn.Module):\n",
    "    def __init__(self):\n",
    "        super().__init__()\n",
    "        self.fc1 = nn.Linear(784, 128)\n",
    "        self.fc3 = nn.Linear(128, 64)\n",
    "        self.fc4 = nn.Linear(64, 10)\n",
    "        \n",
    "        # Dropout module with 0.2 drop probability\n",
    "        self.dropout = nn.Dropout(p=0.2)\n",
    "        \n",
    "    def forward(self, x):\n",
    "        # make sure input tensor is flattened\n",
    "        x = x.view(x.shape[0], -1)\n",
    "\n",
    "        # Now with dropout\n",
    "        x = self.dropout(F.relu(self.fc1(x)))        \n",
    "        x = self.dropout(F.relu(self.fc3(x)))\n",
    "\n",
    "        # output so no dropout here\n",
    "        x = F.log_softmax(self.fc4(x), dim=1)\n",
    "\n",
    "        return x\n",
    "    \n",
    "    def predict_dataset(self, dataloader):\n",
    "        model = self\n",
    "        #predictions = list()\n",
    "        predictions = torch.tensor([]).long()\n",
    "        with torch.no_grad():\n",
    "            for images, _ in dataloader:                \n",
    "                log_ps = model(images)                \n",
    "                ps = torch.exp(log_ps)\n",
    "                top_p, top_class = ps.topk(1, dim=1)\n",
    "                prediction = top_class.view(top_class.shape[0])\n",
    "                #print('prediction.shape', prediction.shape)\n",
    "                predictions = torch.cat((predictions, prediction), 0)\n",
    "                #predictions.append(prediction)\n",
    "                \n",
    "        return predictions\n",
    "            \n",
    "    def train_and_test(self, trainloader, testloader, epochs = 1):\n",
    "        # Copied from Part 5 - Inference and Validation (Solution).ipynb\n",
    "        model = self\n",
    "        \n",
    "        criterion = nn.NLLLoss()\n",
    "        optimizer = optim.Adam(model.parameters(), lr=0.003)\n",
    "\n",
    "        # epochs = 30  #Only thing changed from original\n",
    "        steps = 0\n",
    "\n",
    "        train_losses, test_losses = [], []\n",
    "        for e in range(epochs):\n",
    "            print('Epoch {}'.format(e+1))\n",
    "            running_loss = 0\n",
    "            for images, labels in trainloader:\n",
    "                # images = images.view(images.shape[0], -1)\n",
    "                optimizer.zero_grad()\n",
    "\n",
    "                log_ps = model(images)\n",
    "                loss = criterion(log_ps, labels)\n",
    "                loss.backward()\n",
    "                optimizer.step()\n",
    "\n",
    "                running_loss += loss.item()\n",
    "\n",
    "            else:\n",
    "                test_loss = 0\n",
    "                accuracy = 0\n",
    "                \n",
    "                # Turn off gradients for validation, saves memory and computations                \n",
    "                with torch.no_grad():\n",
    "                    model.eval()\n",
    "                    for images, labels in testloader:\n",
    "                        # images = images.view(images.shape[0], -1)\n",
    "                        log_ps = model(images)\n",
    "                        test_loss += criterion(log_ps, labels)\n",
    "\n",
    "                        ps = torch.exp(log_ps)\n",
    "                        top_p, top_class = ps.topk(1, dim=1)\n",
    "                        equals = top_class == labels.view(*top_class.shape)\n",
    "                        accuracy += torch.mean(equals.type(torch.FloatTensor))\n",
    "\n",
    "                model.train()\n",
    "\n",
    "                train_losses.append(running_loss/len(trainloader))\n",
    "                test_losses.append(test_loss/len(testloader))\n",
    "\n",
    "                print(\"Epoch: {}/{} \".format(e+1, epochs),\n",
    "                      \"Training Loss: {:.3f} \".format(running_loss/len(trainloader)),\n",
    "                      \"Test Loss: {:.3f} \".format(test_loss/len(testloader)),\n",
    "                      \"Test Accuracy: {:.3f}\".format(accuracy/len(testloader)))\n",
    "    \n"
   ]
  },
  {
   "cell_type": "code",
   "execution_count": 8,
   "metadata": {},
   "outputs": [
    {
     "name": "stdout",
     "output_type": "stream",
     "text": [
      "Epoch 1\n",
      "Epoch: 1/1  Training Loss: 0.328  Test Loss: 0.152  Test Accuracy: 0.954\n"
     ]
    }
   ],
   "source": [
    "trainloader = torch.utils.data.DataLoader(mnist_trainset, batch_size=64, shuffle=False)\n",
    "testloader = torch.utils.data.DataLoader(mnist_testset, batch_size=64, shuffle=False)\n",
    "\n",
    "model1 = Classifier()\n",
    "model1.train_and_test(trainloader, testloader)"
   ]
  },
  {
   "cell_type": "code",
   "execution_count": 110,
   "metadata": {},
   "outputs": [
    {
     "name": "stdout",
     "output_type": "stream",
     "text": [
      "images.shape torch.Size([64, 1, 28, 28])\n",
      "labels.shape torch.Size([64])\n",
      "images.dtype torch.float32\n",
      "labels.dtype torch.int64\n"
     ]
    },
    {
     "data": {
      "text/plain": [
       "64"
      ]
     },
     "execution_count": 110,
     "metadata": {},
     "output_type": "execute_result"
    },
    {
     "data": {
      "image/png": "[encoded data removed]",
      "text/plain": [
       "<Figure size 432x648 with 2 Axes>"
      ]
     },
     "metadata": {
      "needs_background": "light"
     },
     "output_type": "display_data"
    }
   ],
   "source": [
    "%matplotlib inline\n",
    "import helper\n",
    "\n",
    "images, labels = next(iter(testloader))\n",
    "print('images.shape', images.shape)\n",
    "print('labels.shape', labels.shape)\n",
    "\n",
    "print('images.dtype', images.dtype)\n",
    "print('labels.dtype', labels.dtype)\n",
    "\n",
    "img = images[0] #.view(1, 784)\n",
    "# Turn off gradients to speed up this part\n",
    "with torch.no_grad():\n",
    "    logps = model1.forward(img)\n",
    "\n",
    "# Output of the network are logits, need to take softmax for probabilities\n",
    "ps = torch.exp(logps)\n",
    "helper.view_classify(img.view(1, 28, 28), ps)\n",
    "len(images)"
   ]
  },
  {
   "cell_type": "code",
   "execution_count": 80,
   "metadata": {},
   "outputs": [
    {
     "name": "stdout",
     "output_type": "stream",
     "text": [
      "Training slice  0 ...\n",
      "Epoch 1\n",
      "Epoch: 1/8  Training Loss: 1.165  Test Loss: 0.521  Test Accuracy: 0.832\n",
      "Epoch 2\n",
      "Epoch: 2/8  Training Loss: 0.462  Test Loss: 0.365  Test Accuracy: 0.889\n",
      "Epoch 3\n",
      "Epoch: 3/8  Training Loss: 0.327  Test Loss: 0.317  Test Accuracy: 0.904\n",
      "Epoch 4\n",
      "Epoch: 4/8  Training Loss: 0.248  Test Loss: 0.297  Test Accuracy: 0.911\n",
      "Epoch 5\n",
      "Epoch: 5/8  Training Loss: 0.216  Test Loss: 0.282  Test Accuracy: 0.917\n",
      "Epoch 6\n",
      "Epoch: 6/8  Training Loss: 0.167  Test Loss: 0.293  Test Accuracy: 0.911\n",
      "Epoch 7\n",
      "Epoch: 7/8  Training Loss: 0.152  Test Loss: 0.255  Test Accuracy: 0.924\n",
      "Epoch 8\n",
      "Epoch: 8/8  Training Loss: 0.119  Test Loss: 0.277  Test Accuracy: 0.921\n",
      "Training slice  1 ...\n",
      "Epoch 1\n",
      "Epoch: 1/8  Training Loss: 1.195  Test Loss: 0.489  Test Accuracy: 0.855\n",
      "Epoch 2\n",
      "Epoch: 2/8  Training Loss: 0.477  Test Loss: 0.396  Test Accuracy: 0.881\n",
      "Epoch 3\n",
      "Epoch: 3/8  Training Loss: 0.325  Test Loss: 0.322  Test Accuracy: 0.903\n",
      "Epoch 4\n",
      "Epoch: 4/8  Training Loss: 0.237  Test Loss: 0.296  Test Accuracy: 0.910\n",
      "Epoch 5\n",
      "Epoch: 5/8  Training Loss: 0.200  Test Loss: 0.306  Test Accuracy: 0.909\n",
      "Epoch 6\n",
      "Epoch: 6/8  Training Loss: 0.177  Test Loss: 0.292  Test Accuracy: 0.915\n",
      "Epoch 7\n",
      "Epoch: 7/8  Training Loss: 0.136  Test Loss: 0.284  Test Accuracy: 0.917\n",
      "Epoch 8\n",
      "Epoch: 8/8  Training Loss: 0.112  Test Loss: 0.271  Test Accuracy: 0.922\n",
      "Training slice  2 ...\n",
      "Epoch 1\n",
      "Epoch: 1/8  Training Loss: 1.223  Test Loss: 0.608  Test Accuracy: 0.805\n",
      "Epoch 2\n",
      "Epoch: 2/8  Training Loss: 0.521  Test Loss: 0.397  Test Accuracy: 0.884\n",
      "Epoch 3\n",
      "Epoch: 3/8  Training Loss: 0.376  Test Loss: 0.332  Test Accuracy: 0.902\n",
      "Epoch 4\n",
      "Epoch: 4/8  Training Loss: 0.279  Test Loss: 0.332  Test Accuracy: 0.900\n",
      "Epoch 5\n",
      "Epoch: 5/8  Training Loss: 0.237  Test Loss: 0.291  Test Accuracy: 0.912\n",
      "Epoch 6\n",
      "Epoch: 6/8  Training Loss: 0.206  Test Loss: 0.293  Test Accuracy: 0.916\n",
      "Epoch 7\n",
      "Epoch: 7/8  Training Loss: 0.168  Test Loss: 0.286  Test Accuracy: 0.920\n",
      "Epoch 8\n",
      "Epoch: 8/8  Training Loss: 0.149  Test Loss: 0.284  Test Accuracy: 0.920\n",
      "Training slice  3 ...\n",
      "Epoch 1\n",
      "Epoch: 1/8  Training Loss: 1.114  Test Loss: 0.492  Test Accuracy: 0.851\n",
      "Epoch 2\n",
      "Epoch: 2/8  Training Loss: 0.454  Test Loss: 0.388  Test Accuracy: 0.882\n",
      "Epoch 3\n",
      "Epoch: 3/8  Training Loss: 0.330  Test Loss: 0.362  Test Accuracy: 0.891\n",
      "Epoch 4\n",
      "Epoch: 4/8  Training Loss: 0.236  Test Loss: 0.328  Test Accuracy: 0.898\n",
      "Epoch 5\n",
      "Epoch: 5/8  Training Loss: 0.184  Test Loss: 0.291  Test Accuracy: 0.914\n",
      "Epoch 6\n",
      "Epoch: 6/8  Training Loss: 0.164  Test Loss: 0.301  Test Accuracy: 0.911\n",
      "Epoch 7\n",
      "Epoch: 7/8  Training Loss: 0.122  Test Loss: 0.297  Test Accuracy: 0.914\n",
      "Epoch 8\n",
      "Epoch: 8/8  Training Loss: 0.109  Test Loss: 0.304  Test Accuracy: 0.913\n",
      "Training slice  4 ...\n",
      "Epoch 1\n",
      "Epoch: 1/8  Training Loss: 1.241  Test Loss: 0.525  Test Accuracy: 0.838\n",
      "Epoch 2\n",
      "Epoch: 2/8  Training Loss: 0.532  Test Loss: 0.344  Test Accuracy: 0.902\n",
      "Epoch 3\n",
      "Epoch: 3/8  Training Loss: 0.383  Test Loss: 0.317  Test Accuracy: 0.904\n",
      "Epoch 4\n",
      "Epoch: 4/8  Training Loss: 0.312  Test Loss: 0.265  Test Accuracy: 0.922\n",
      "Epoch 5\n",
      "Epoch: 5/8  Training Loss: 0.232  Test Loss: 0.249  Test Accuracy: 0.925\n",
      "Epoch 6\n",
      "Epoch: 6/8  Training Loss: 0.176  Test Loss: 0.257  Test Accuracy: 0.923\n",
      "Epoch 7\n",
      "Epoch: 7/8  Training Loss: 0.161  Test Loss: 0.251  Test Accuracy: 0.928\n",
      "Epoch 8\n",
      "Epoch: 8/8  Training Loss: 0.114  Test Loss: 0.227  Test Accuracy: 0.935\n",
      "Training slice  5 ...\n",
      "Epoch 1\n",
      "Epoch: 1/8  Training Loss: 1.181  Test Loss: 0.501  Test Accuracy: 0.850\n",
      "Epoch 2\n",
      "Epoch: 2/8  Training Loss: 0.496  Test Loss: 0.347  Test Accuracy: 0.898\n",
      "Epoch 3\n",
      "Epoch: 3/8  Training Loss: 0.343  Test Loss: 0.305  Test Accuracy: 0.910\n",
      "Epoch 4\n",
      "Epoch: 4/8  Training Loss: 0.258  Test Loss: 0.277  Test Accuracy: 0.918\n",
      "Epoch 5\n",
      "Epoch: 5/8  Training Loss: 0.209  Test Loss: 0.285  Test Accuracy: 0.917\n",
      "Epoch 6\n",
      "Epoch: 6/8  Training Loss: 0.173  Test Loss: 0.293  Test Accuracy: 0.913\n",
      "Epoch 7\n",
      "Epoch: 7/8  Training Loss: 0.143  Test Loss: 0.266  Test Accuracy: 0.922\n",
      "Epoch 8\n",
      "Epoch: 8/8  Training Loss: 0.116  Test Loss: 0.258  Test Accuracy: 0.929\n",
      "Training slice  6 ...\n",
      "Epoch 1\n",
      "Epoch: 1/8  Training Loss: 1.115  Test Loss: 0.460  Test Accuracy: 0.870\n",
      "Epoch 2\n",
      "Epoch: 2/8  Training Loss: 0.433  Test Loss: 0.374  Test Accuracy: 0.886\n",
      "Epoch 3\n",
      "Epoch: 3/8  Training Loss: 0.310  Test Loss: 0.307  Test Accuracy: 0.908\n",
      "Epoch 4\n",
      "Epoch: 4/8  Training Loss: 0.231  Test Loss: 0.290  Test Accuracy: 0.911\n",
      "Epoch 5\n",
      "Epoch: 5/8  Training Loss: 0.193  Test Loss: 0.302  Test Accuracy: 0.911\n",
      "Epoch 6\n",
      "Epoch: 6/8  Training Loss: 0.158  Test Loss: 0.298  Test Accuracy: 0.913\n",
      "Epoch 7\n",
      "Epoch: 7/8  Training Loss: 0.149  Test Loss: 0.267  Test Accuracy: 0.921\n",
      "Epoch 8\n",
      "Epoch: 8/8  Training Loss: 0.102  Test Loss: 0.277  Test Accuracy: 0.918\n",
      "Training slice  7 ...\n",
      "Epoch 1\n",
      "Epoch: 1/8  Training Loss: 1.142  Test Loss: 0.514  Test Accuracy: 0.842\n",
      "Epoch 2\n",
      "Epoch: 2/8  Training Loss: 0.445  Test Loss: 0.377  Test Accuracy: 0.884\n",
      "Epoch 3\n",
      "Epoch: 3/8  Training Loss: 0.323  Test Loss: 0.344  Test Accuracy: 0.897\n",
      "Epoch 4\n",
      "Epoch: 4/8  Training Loss: 0.238  Test Loss: 0.314  Test Accuracy: 0.910\n",
      "Epoch 5\n",
      "Epoch: 5/8  Training Loss: 0.204  Test Loss: 0.308  Test Accuracy: 0.911\n",
      "Epoch 6\n",
      "Epoch: 6/8  Training Loss: 0.164  Test Loss: 0.297  Test Accuracy: 0.915\n",
      "Epoch 7\n",
      "Epoch: 7/8  Training Loss: 0.130  Test Loss: 0.276  Test Accuracy: 0.922\n",
      "Epoch 8\n",
      "Epoch: 8/8  Training Loss: 0.110  Test Loss: 0.266  Test Accuracy: 0.926\n",
      "Training slice  8 ...\n",
      "Epoch 1\n",
      "Epoch: 1/8  Training Loss: 1.125  Test Loss: 0.521  Test Accuracy: 0.844\n",
      "Epoch 2\n",
      "Epoch: 2/8  Training Loss: 0.431  Test Loss: 0.351  Test Accuracy: 0.896\n",
      "Epoch 3\n",
      "Epoch: 3/8  Training Loss: 0.316  Test Loss: 0.319  Test Accuracy: 0.904\n",
      "Epoch 4\n",
      "Epoch: 4/8  Training Loss: 0.230  Test Loss: 0.304  Test Accuracy: 0.911\n",
      "Epoch 5\n",
      "Epoch: 5/8  Training Loss: 0.183  Test Loss: 0.299  Test Accuracy: 0.914\n",
      "Epoch 6\n",
      "Epoch: 6/8  Training Loss: 0.143  Test Loss: 0.316  Test Accuracy: 0.912\n",
      "Epoch 7\n",
      "Epoch: 7/8  Training Loss: 0.136  Test Loss: 0.258  Test Accuracy: 0.930\n",
      "Epoch 8\n",
      "Epoch: 8/8  Training Loss: 0.104  Test Loss: 0.284  Test Accuracy: 0.922\n",
      "Training slice  9 ...\n",
      "Epoch 1\n",
      "Epoch: 1/8  Training Loss: 1.173  Test Loss: 0.476  Test Accuracy: 0.856\n",
      "Epoch 2\n",
      "Epoch: 2/8  Training Loss: 0.470  Test Loss: 0.410  Test Accuracy: 0.872\n",
      "Epoch 3\n",
      "Epoch: 3/8  Training Loss: 0.343  Test Loss: 0.297  Test Accuracy: 0.907\n",
      "Epoch 4\n",
      "Epoch: 4/8  Training Loss: 0.274  Test Loss: 0.288  Test Accuracy: 0.911\n",
      "Epoch 5\n",
      "Epoch: 5/8  Training Loss: 0.202  Test Loss: 0.271  Test Accuracy: 0.918\n",
      "Epoch 6\n",
      "Epoch: 6/8  Training Loss: 0.153  Test Loss: 0.277  Test Accuracy: 0.917\n",
      "Epoch 7\n",
      "Epoch: 7/8  Training Loss: 0.135  Test Loss: 0.275  Test Accuracy: 0.921\n",
      "Epoch 8\n",
      "Epoch: 8/8  Training Loss: 0.111  Test Loss: 0.255  Test Accuracy: 0.928\n",
      "Training slice  10 ...\n",
      "Epoch 1\n",
      "Epoch: 1/8  Training Loss: 1.262  Test Loss: 0.546  Test Accuracy: 0.822\n",
      "Epoch 2\n",
      "Epoch: 2/8  Training Loss: 0.510  Test Loss: 0.374  Test Accuracy: 0.886\n",
      "Epoch 3\n",
      "Epoch: 3/8  Training Loss: 0.368  Test Loss: 0.348  Test Accuracy: 0.894\n",
      "Epoch 4\n",
      "Epoch: 4/8  Training Loss: 0.274  Test Loss: 0.261  Test Accuracy: 0.922\n",
      "Epoch 5\n",
      "Epoch: 5/8  Training Loss: 0.219  Test Loss: 0.280  Test Accuracy: 0.917\n",
      "Epoch 6\n",
      "Epoch: 6/8  Training Loss: 0.182  Test Loss: 0.272  Test Accuracy: 0.921\n",
      "Epoch 7\n",
      "Epoch: 7/8  Training Loss: 0.163  Test Loss: 0.246  Test Accuracy: 0.926\n",
      "Epoch 8\n",
      "Epoch: 8/8  Training Loss: 0.123  Test Loss: 0.262  Test Accuracy: 0.926\n",
      "Training slice  11 ...\n",
      "Epoch 1\n",
      "Epoch: 1/8  Training Loss: 1.124  Test Loss: 0.486  Test Accuracy: 0.847\n",
      "Epoch 2\n",
      "Epoch: 2/8  Training Loss: 0.423  Test Loss: 0.372  Test Accuracy: 0.892\n",
      "Epoch 3\n",
      "Epoch: 3/8  Training Loss: 0.303  Test Loss: 0.346  Test Accuracy: 0.897\n",
      "Epoch 4\n",
      "Epoch: 4/8  Training Loss: 0.228  Test Loss: 0.318  Test Accuracy: 0.908\n",
      "Epoch 5\n",
      "Epoch: 5/8  Training Loss: 0.192  Test Loss: 0.303  Test Accuracy: 0.914\n",
      "Epoch 6\n",
      "Epoch: 6/8  Training Loss: 0.154  Test Loss: 0.310  Test Accuracy: 0.915\n",
      "Epoch 7\n",
      "Epoch: 7/8  Training Loss: 0.127  Test Loss: 0.289  Test Accuracy: 0.921\n",
      "Epoch 8\n",
      "Epoch: 8/8  Training Loss: 0.106  Test Loss: 0.292  Test Accuracy: 0.919\n",
      "Training slice  12 ...\n",
      "Epoch 1\n",
      "Epoch: 1/8  Training Loss: 1.228  Test Loss: 0.573  Test Accuracy: 0.824\n",
      "Epoch 2\n",
      "Epoch: 2/8  Training Loss: 0.493  Test Loss: 0.355  Test Accuracy: 0.898\n",
      "Epoch 3\n"
     ]
    },
    {
     "name": "stdout",
     "output_type": "stream",
     "text": [
      "Epoch: 3/8  Training Loss: 0.349  Test Loss: 0.344  Test Accuracy: 0.896\n",
      "Epoch 4\n",
      "Epoch: 4/8  Training Loss: 0.263  Test Loss: 0.297  Test Accuracy: 0.908\n",
      "Epoch 5\n",
      "Epoch: 5/8  Training Loss: 0.218  Test Loss: 0.287  Test Accuracy: 0.913\n",
      "Epoch 6\n",
      "Epoch: 6/8  Training Loss: 0.181  Test Loss: 0.275  Test Accuracy: 0.916\n",
      "Epoch 7\n",
      "Epoch: 7/8  Training Loss: 0.148  Test Loss: 0.280  Test Accuracy: 0.918\n",
      "Epoch 8\n",
      "Epoch: 8/8  Training Loss: 0.133  Test Loss: 0.297  Test Accuracy: 0.917\n",
      "Training slice  13 ...\n",
      "Epoch 1\n",
      "Epoch: 1/8  Training Loss: 1.190  Test Loss: 0.530  Test Accuracy: 0.829\n",
      "Epoch 2\n",
      "Epoch: 2/8  Training Loss: 0.497  Test Loss: 0.409  Test Accuracy: 0.885\n",
      "Epoch 3\n",
      "Epoch: 3/8  Training Loss: 0.353  Test Loss: 0.362  Test Accuracy: 0.892\n",
      "Epoch 4\n",
      "Epoch: 4/8  Training Loss: 0.271  Test Loss: 0.320  Test Accuracy: 0.907\n",
      "Epoch 5\n",
      "Epoch: 5/8  Training Loss: 0.226  Test Loss: 0.308  Test Accuracy: 0.909\n",
      "Epoch 6\n",
      "Epoch: 6/8  Training Loss: 0.182  Test Loss: 0.294  Test Accuracy: 0.916\n",
      "Epoch 7\n",
      "Epoch: 7/8  Training Loss: 0.153  Test Loss: 0.284  Test Accuracy: 0.921\n",
      "Epoch 8\n",
      "Epoch: 8/8  Training Loss: 0.129  Test Loss: 0.296  Test Accuracy: 0.918\n",
      "Training slice  14 ...\n",
      "Epoch 1\n",
      "Epoch: 1/8  Training Loss: 1.172  Test Loss: 0.469  Test Accuracy: 0.862\n",
      "Epoch 2\n",
      "Epoch: 2/8  Training Loss: 0.452  Test Loss: 0.352  Test Accuracy: 0.895\n",
      "Epoch 3\n",
      "Epoch: 3/8  Training Loss: 0.313  Test Loss: 0.320  Test Accuracy: 0.901\n",
      "Epoch 4\n",
      "Epoch: 4/8  Training Loss: 0.270  Test Loss: 0.312  Test Accuracy: 0.903\n",
      "Epoch 5\n",
      "Epoch: 5/8  Training Loss: 0.220  Test Loss: 0.284  Test Accuracy: 0.914\n",
      "Epoch 6\n",
      "Epoch: 6/8  Training Loss: 0.167  Test Loss: 0.257  Test Accuracy: 0.924\n",
      "Epoch 7\n",
      "Epoch: 7/8  Training Loss: 0.136  Test Loss: 0.281  Test Accuracy: 0.920\n",
      "Epoch 8\n",
      "Epoch: 8/8  Training Loss: 0.128  Test Loss: 0.277  Test Accuracy: 0.921\n",
      "Training slice  15 ...\n",
      "Epoch 1\n",
      "Epoch: 1/8  Training Loss: 1.147  Test Loss: 0.495  Test Accuracy: 0.855\n",
      "Epoch 2\n",
      "Epoch: 2/8  Training Loss: 0.502  Test Loss: 0.400  Test Accuracy: 0.878\n",
      "Epoch 3\n",
      "Epoch: 3/8  Training Loss: 0.375  Test Loss: 0.341  Test Accuracy: 0.896\n",
      "Epoch 4\n",
      "Epoch: 4/8  Training Loss: 0.283  Test Loss: 0.306  Test Accuracy: 0.908\n",
      "Epoch 5\n",
      "Epoch: 5/8  Training Loss: 0.250  Test Loss: 0.287  Test Accuracy: 0.913\n",
      "Epoch 6\n",
      "Epoch: 6/8  Training Loss: 0.197  Test Loss: 0.291  Test Accuracy: 0.915\n",
      "Epoch 7\n",
      "Epoch: 7/8  Training Loss: 0.171  Test Loss: 0.270  Test Accuracy: 0.922\n",
      "Epoch 8\n",
      "Epoch: 8/8  Training Loss: 0.135  Test Loss: 0.282  Test Accuracy: 0.921\n",
      "Training slice  16 ...\n",
      "Epoch 1\n",
      "Epoch: 1/8  Training Loss: 1.228  Test Loss: 0.520  Test Accuracy: 0.836\n",
      "Epoch 2\n",
      "Epoch: 2/8  Training Loss: 0.487  Test Loss: 0.352  Test Accuracy: 0.896\n",
      "Epoch 3\n",
      "Epoch: 3/8  Training Loss: 0.334  Test Loss: 0.304  Test Accuracy: 0.906\n",
      "Epoch 4\n",
      "Epoch: 4/8  Training Loss: 0.292  Test Loss: 0.279  Test Accuracy: 0.915\n",
      "Epoch 5\n",
      "Epoch: 5/8  Training Loss: 0.212  Test Loss: 0.299  Test Accuracy: 0.908\n",
      "Epoch 6\n",
      "Epoch: 6/8  Training Loss: 0.184  Test Loss: 0.276  Test Accuracy: 0.917\n",
      "Epoch 7\n",
      "Epoch: 7/8  Training Loss: 0.151  Test Loss: 0.266  Test Accuracy: 0.923\n",
      "Epoch 8\n",
      "Epoch: 8/8  Training Loss: 0.133  Test Loss: 0.305  Test Accuracy: 0.916\n",
      "Training slice  17 ...\n",
      "Epoch 1\n",
      "Epoch: 1/8  Training Loss: 1.148  Test Loss: 0.461  Test Accuracy: 0.867\n",
      "Epoch 2\n",
      "Epoch: 2/8  Training Loss: 0.442  Test Loss: 0.374  Test Accuracy: 0.884\n",
      "Epoch 3\n",
      "Epoch: 3/8  Training Loss: 0.338  Test Loss: 0.316  Test Accuracy: 0.902\n",
      "Epoch 4\n",
      "Epoch: 4/8  Training Loss: 0.259  Test Loss: 0.316  Test Accuracy: 0.900\n",
      "Epoch 5\n",
      "Epoch: 5/8  Training Loss: 0.205  Test Loss: 0.283  Test Accuracy: 0.911\n",
      "Epoch 6\n",
      "Epoch: 6/8  Training Loss: 0.163  Test Loss: 0.283  Test Accuracy: 0.916\n",
      "Epoch 7\n",
      "Epoch: 7/8  Training Loss: 0.124  Test Loss: 0.263  Test Accuracy: 0.923\n",
      "Epoch 8\n",
      "Epoch: 8/8  Training Loss: 0.127  Test Loss: 0.293  Test Accuracy: 0.917\n",
      "Training slice  18 ...\n",
      "Epoch 1\n",
      "Epoch: 1/8  Training Loss: 1.053  Test Loss: 0.480  Test Accuracy: 0.857\n",
      "Epoch 2\n",
      "Epoch: 2/8  Training Loss: 0.408  Test Loss: 0.360  Test Accuracy: 0.893\n",
      "Epoch 3\n",
      "Epoch: 3/8  Training Loss: 0.305  Test Loss: 0.342  Test Accuracy: 0.893\n",
      "Epoch 4\n",
      "Epoch: 4/8  Training Loss: 0.243  Test Loss: 0.312  Test Accuracy: 0.905\n",
      "Epoch 5\n",
      "Epoch: 5/8  Training Loss: 0.187  Test Loss: 0.275  Test Accuracy: 0.914\n",
      "Epoch 6\n",
      "Epoch: 6/8  Training Loss: 0.151  Test Loss: 0.271  Test Accuracy: 0.920\n",
      "Epoch 7\n",
      "Epoch: 7/8  Training Loss: 0.109  Test Loss: 0.306  Test Accuracy: 0.913\n",
      "Epoch 8\n",
      "Epoch: 8/8  Training Loss: 0.093  Test Loss: 0.268  Test Accuracy: 0.922\n",
      "Training slice  19 ...\n",
      "Epoch 1\n",
      "Epoch: 1/8  Training Loss: 1.046  Test Loss: 0.542  Test Accuracy: 0.824\n",
      "Epoch 2\n",
      "Epoch: 2/8  Training Loss: 0.325  Test Loss: 0.404  Test Accuracy: 0.877\n",
      "Epoch 3\n",
      "Epoch: 3/8  Training Loss: 0.234  Test Loss: 0.375  Test Accuracy: 0.888\n",
      "Epoch 4\n",
      "Epoch: 4/8  Training Loss: 0.184  Test Loss: 0.388  Test Accuracy: 0.886\n",
      "Epoch 5\n",
      "Epoch: 5/8  Training Loss: 0.136  Test Loss: 0.356  Test Accuracy: 0.900\n",
      "Epoch 6\n",
      "Epoch: 6/8  Training Loss: 0.106  Test Loss: 0.372  Test Accuracy: 0.897\n",
      "Epoch 7\n",
      "Epoch: 7/8  Training Loss: 0.097  Test Loss: 0.346  Test Accuracy: 0.905\n",
      "Epoch 8\n",
      "Epoch: 8/8  Training Loss: 0.070  Test Loss: 0.332  Test Accuracy: 0.916\n"
     ]
    },
    {
     "data": {
      "text/plain": [
       "20"
      ]
     },
     "execution_count": 80,
     "metadata": {},
     "output_type": "execute_result"
    }
   ],
   "source": [
    "from torch.utils.data import SubsetRandomSampler \n",
    "\n",
    "def get_trainloader_slice(i, slice_size):    \n",
    "    train_indices = range(int(i*slice_size), int((i+1)*slice_size))\n",
    "    trainloader = torch.utils.data.DataLoader(mnist_trainset, batch_size=64, shuffle=False, sampler=SubsetRandomSampler(train_indices))\n",
    "    return trainloader\n",
    "\n",
    "models = list()\n",
    "train_size = len(mnist_trainset)\n",
    "n_teachers = 20\n",
    "n_slices = n_teachers  #n_slices is deprecated\n",
    "slice_size = train_size / n_slices\n",
    "\n",
    "for i in range(n_slices):\n",
    "    print('Training slice ', i, '...')\n",
    "    new_model = Classifier()\n",
    "    new_trainloader = get_trainloader_slice(i, slice_size)\n",
    "    new_model.train_and_test(new_trainloader, testloader, 8)\n",
    "    models.append(new_model)    \n",
    "len(models)    "
   ]
  },
  {
   "cell_type": "code",
   "execution_count": 140,
   "metadata": {},
   "outputs": [
    {
     "name": "stdout",
     "output_type": "stream",
     "text": [
      "torch.Size([20, 10000])\n"
     ]
    }
   ],
   "source": [
    "n_testset = len(mnist_testset)\n",
    "with torch.no_grad():    \n",
    "    private_label_matrix = torch.zeros(len(models), n_testset).long()\n",
    "    for i in range(len(models)):\n",
    "        model = models[i]\n",
    "        predictions = model.predict_dataset(testloader)        \n",
    "        private_label_matrix[i] = predictions\n",
    "    print(private_label_matrix.shape)"
   ]
  },
  {
   "cell_type": "code",
   "execution_count": 143,
   "metadata": {},
   "outputs": [
    {
     "data": {
      "text/plain": [
       "tensor([7, 2, 1,  ..., 4, 5, 6])"
      ]
     },
     "execution_count": 143,
     "metadata": {},
     "output_type": "execute_result"
    }
   ],
   "source": [
    "dp_labels = torch.zeros(n_testset).long()\n",
    "epsilon = 0.1\n",
    "sensitivity = 1\n",
    "nondp_labels = torch.zeros(n_testset).long()\n",
    "for i in range(n_testset):\n",
    "    private_labels = private_label_matrix[:,i].bincount(minlength=10)\n",
    "    \n",
    "    # print(private_labels.tolist())\n",
    "    noised_labels = list(map(lambda l: l + getLaplacianNoise(sensitivity, epsilon)[0], private_labels.tolist()))\n",
    "  \n",
    "    dp_labels[i] = int(np.argmax(noised_labels))\n",
    "    nondp_labels[i] = int(np.argmax(private_labels.tolist()))\n",
    "\n",
    "dp_labels\n",
    "nondp_labels"
   ]
  },
  {
   "cell_type": "code",
   "execution_count": 134,
   "metadata": {},
   "outputs": [
    {
     "name": "stdout",
     "output_type": "stream",
     "text": [
      "dp_labels.dtype:  torch.int64\n",
      "test_labels.dtype torch.int64\n",
      "tensor(0.4461)\n"
     ]
    }
   ],
   "source": [
    "print('dp_labels.dtype: ', dp_labels.dtype)\n",
    "print('test_labels.dtype', mnist_testset.targets.dtype)\n",
    "\n",
    "#mnist_testset.test_data.dtype\n",
    "\n",
    "equals = dp_labels == mnist_testset.targets\n",
    "accuracy = torch.mean(equals.type(torch.FloatTensor))    \n",
    "print(accuracy)\n"
   ]
  },
  {
   "cell_type": "code",
   "execution_count": 136,
   "metadata": {},
   "outputs": [
    {
     "name": "stdout",
     "output_type": "stream",
     "text": [
      "Epoch 1\n",
      "Epoch: 1/8  Training Loss: 2.075  Test Loss: 1.327  Test Accuracy: 0.849\n",
      "Epoch 2\n",
      "Epoch: 2/8  Training Loss: 1.974  Test Loss: 1.229  Test Accuracy: 0.866\n",
      "Epoch 3\n",
      "Epoch: 3/8  Training Loss: 1.942  Test Loss: 1.255  Test Accuracy: 0.869\n",
      "Epoch 4\n",
      "Epoch: 4/8  Training Loss: 1.925  Test Loss: 1.229  Test Accuracy: 0.865\n",
      "Epoch 5\n",
      "Epoch: 5/8  Training Loss: 1.906  Test Loss: 1.213  Test Accuracy: 0.878\n",
      "Epoch 6\n",
      "Epoch: 6/8  Training Loss: 1.892  Test Loss: 1.220  Test Accuracy: 0.862\n",
      "Epoch 7\n",
      "Epoch: 7/8  Training Loss: 1.869  Test Loss: 1.149  Test Accuracy: 0.864\n",
      "Epoch 8\n",
      "Epoch: 8/8  Training Loss: 1.847  Test Loss: 1.180  Test Accuracy: 0.851\n"
     ]
    }
   ],
   "source": [
    "from torch.utils.data import TensorDataset, DataLoader\n",
    "# mnist_testset.test_data.shape\n",
    "# torch.Size([10000, 28, 28])\n",
    "\n",
    "# images = mnist_testset.test_data.float().view(10000, 1, 28, 28) / 255\n",
    "images = mnist_testset.test_data.float() / 255\n",
    "\n",
    "dataset = TensorDataset(images, dp_labels.long())\n",
    "dploader = torch.utils.data.DataLoader(dataset, batch_size=64, shuffle=False)\n",
    "dpmodel = Classifier()\n",
    "dpmodel.train_and_test(dploader, testloader, 8)\n"
   ]
  },
  {
   "cell_type": "code",
   "execution_count": null,
   "metadata": {},
   "outputs": [],
   "source": [
    "from syft.frameworks.torch.differential_privacy import pate\n",
    "\n",
    "data_dep_eps, data_ind_eps = pate.perform_analysis(\n",
    "    teacher_preds=private_label_matrix, \n",
    "    indices=nondp_labels, \n",
    "    noise_eps=0.1, \n",
    "    delta=1e-5\n",
    ")\n",
    "\n",
    "assert data_dep_eps < data_ind_eps"
   ]
  },
  {
   "cell_type": "code",
   "execution_count": null,
   "metadata": {},
   "outputs": [],
   "source": [
    "print(\"Data Independent Epsilon:\", data_ind_eps)\n",
    "print(\"Data Dependent Epsilon:\", data_dep_eps)"
   ]
  },
  {
   "cell_type": "code",
   "execution_count": 111,
   "metadata": {},
   "outputs": [
    {
     "name": "stdout",
     "output_type": "stream",
     "text": [
      "images.shape torch.Size([64, 1, 28, 28])\n",
      "labels.shape torch.Size([64])\n",
      "images.dtype torch.float32\n",
      "labels.dtype torch.int64\n"
     ]
    },
    {
     "data": {
      "image/png": "[encoded data removed]",
      "text/plain": [
       "<Figure size 432x648 with 2 Axes>"
      ]
     },
     "metadata": {
      "needs_background": "light"
     },
     "output_type": "display_data"
    }
   ],
   "source": [
    "%matplotlib inline\n",
    "import helper\n",
    "\n",
    "images, labels = next(iter(dploader))\n",
    "print('images.shape', images.shape)\n",
    "print('labels.shape', labels.shape)\n",
    "\n",
    "print('images.dtype', images.dtype)\n",
    "print('labels.dtype', labels.dtype)\n",
    "#images = images.view(64, 1, 28, 28)\n",
    "img = images[0] #.view(1, 784)\n",
    "\n",
    "# Turn off gradients to speed up this part\n",
    "with torch.no_grad():\n",
    "    logps = model1.forward(img)\n",
    "\n",
    "# Output of the network are logits, need to take softmax for probabilities\n",
    "ps = torch.exp(logps)\n",
    "helper.view_classify(img.view(1, 28, 28), ps)"
   ]
  },
  {
   "cell_type": "code",
   "execution_count": 120,
   "metadata": {},
   "outputs": [
    {
     "name": "stdout",
     "output_type": "stream",
     "text": [
      "torch.Size([1, 28, 28]) torch.Size([1, 28, 28])\n",
      "torch.float32 torch.float32\n",
      "tensor(72.3686) tensor(72.3686)\n",
      "tensor([[0.0000, 0.0000, 0.0000, 0.0000, 0.0000, 0.0000, 0.0000, 0.0000, 0.0000,\n",
      "         0.0000, 0.0000, 0.0000, 0.0000, 0.0000, 0.0000, 0.0000, 0.0000, 0.0000,\n",
      "         0.0000, 0.0000, 0.0000, 0.0000, 0.0000, 0.0000, 0.0000, 0.0000, 0.0000,\n",
      "         0.0000],\n",
      "        [0.0000, 0.0000, 0.0000, 0.0000, 0.0000, 0.0000, 0.0000, 0.0000, 0.0000,\n",
      "         0.0000, 0.0000, 0.0000, 0.0000, 0.0000, 0.0000, 0.0000, 0.0000, 0.0000,\n",
      "         0.0000, 0.0000, 0.0000, 0.0000, 0.0000, 0.0000, 0.0000, 0.0000, 0.0000,\n",
      "         0.0000],\n",
      "        [0.0000, 0.0000, 0.0000, 0.0000, 0.0000, 0.0000, 0.0000, 0.0000, 0.0000,\n",
      "         0.0000, 0.0000, 0.0000, 0.0000, 0.0000, 0.0000, 0.0000, 0.0000, 0.0000,\n",
      "         0.0000, 0.0000, 0.0000, 0.0000, 0.0000, 0.0000, 0.0000, 0.0000, 0.0000,\n",
      "         0.0000],\n",
      "        [0.0000, 0.0000, 0.0000, 0.0000, 0.0000, 0.0000, 0.0000, 0.0000, 0.0000,\n",
      "         0.0000, 0.0000, 0.0000, 0.0000, 0.0000, 0.0000, 0.0000, 0.0000, 0.0000,\n",
      "         0.0000, 0.0000, 0.0000, 0.0000, 0.0000, 0.0000, 0.0000, 0.0000, 0.0000,\n",
      "         0.0000],\n",
      "        [0.0000, 0.0000, 0.0000, 0.0000, 0.0000, 0.0000, 0.0000, 0.0000, 0.0000,\n",
      "         0.0000, 0.0000, 0.0000, 0.0000, 0.0000, 0.0000, 0.0000, 0.0000, 0.0000,\n",
      "         0.0000, 0.0000, 0.0000, 0.0000, 0.0000, 0.0000, 0.0000, 0.0000, 0.0000,\n",
      "         0.0000],\n",
      "        [0.0000, 0.0000, 0.0000, 0.0000, 0.0000, 0.0000, 0.0000, 0.0000, 0.0000,\n",
      "         0.0000, 0.0000, 0.0000, 0.0000, 0.0000, 0.0000, 0.0000, 0.0000, 0.0000,\n",
      "         0.0000, 0.0000, 0.0000, 0.0000, 0.0000, 0.0000, 0.0000, 0.0000, 0.0000,\n",
      "         0.0000],\n",
      "        [0.0000, 0.0000, 0.0000, 0.0000, 0.0000, 0.0000, 0.0000, 0.0000, 0.0000,\n",
      "         0.0000, 0.0000, 0.0000, 0.0000, 0.0000, 0.0000, 0.0000, 0.0000, 0.0000,\n",
      "         0.0000, 0.0000, 0.0000, 0.0000, 0.0000, 0.0000, 0.0000, 0.0000, 0.0000,\n",
      "         0.0000],\n",
      "        [0.0000, 0.0000, 0.0000, 0.0000, 0.0000, 0.0000, 0.3294, 0.7255, 0.6235,\n",
      "         0.5922, 0.2353, 0.1412, 0.0000, 0.0000, 0.0000, 0.0000, 0.0000, 0.0000,\n",
      "         0.0000, 0.0000, 0.0000, 0.0000, 0.0000, 0.0000, 0.0000, 0.0000, 0.0000,\n",
      "         0.0000],\n",
      "        [0.0000, 0.0000, 0.0000, 0.0000, 0.0000, 0.0000, 0.8706, 0.9961, 0.9961,\n",
      "         0.9961, 0.9961, 0.9451, 0.7765, 0.7765, 0.7765, 0.7765, 0.7765, 0.7765,\n",
      "         0.7765, 0.7765, 0.6667, 0.2039, 0.0000, 0.0000, 0.0000, 0.0000, 0.0000,\n",
      "         0.0000],\n",
      "        [0.0000, 0.0000, 0.0000, 0.0000, 0.0000, 0.0000, 0.2627, 0.4471, 0.2824,\n",
      "         0.4471, 0.6392, 0.8902, 0.9961, 0.8824, 0.9961, 0.9961, 0.9961, 0.9804,\n",
      "         0.8980, 0.9961, 0.9961, 0.5490, 0.0000, 0.0000, 0.0000, 0.0000, 0.0000,\n",
      "         0.0000],\n",
      "        [0.0000, 0.0000, 0.0000, 0.0000, 0.0000, 0.0000, 0.0000, 0.0000, 0.0000,\n",
      "         0.0000, 0.0000, 0.0667, 0.2588, 0.0549, 0.2627, 0.2627, 0.2627, 0.2314,\n",
      "         0.0824, 0.9255, 0.9961, 0.4157, 0.0000, 0.0000, 0.0000, 0.0000, 0.0000,\n",
      "         0.0000],\n",
      "        [0.0000, 0.0000, 0.0000, 0.0000, 0.0000, 0.0000, 0.0000, 0.0000, 0.0000,\n",
      "         0.0000, 0.0000, 0.0000, 0.0000, 0.0000, 0.0000, 0.0000, 0.0000, 0.0000,\n",
      "         0.3255, 0.9922, 0.8196, 0.0706, 0.0000, 0.0000, 0.0000, 0.0000, 0.0000,\n",
      "         0.0000],\n",
      "        [0.0000, 0.0000, 0.0000, 0.0000, 0.0000, 0.0000, 0.0000, 0.0000, 0.0000,\n",
      "         0.0000, 0.0000, 0.0000, 0.0000, 0.0000, 0.0000, 0.0000, 0.0000, 0.0863,\n",
      "         0.9137, 1.0000, 0.3255, 0.0000, 0.0000, 0.0000, 0.0000, 0.0000, 0.0000,\n",
      "         0.0000],\n",
      "        [0.0000, 0.0000, 0.0000, 0.0000, 0.0000, 0.0000, 0.0000, 0.0000, 0.0000,\n",
      "         0.0000, 0.0000, 0.0000, 0.0000, 0.0000, 0.0000, 0.0000, 0.0000, 0.5059,\n",
      "         0.9961, 0.9333, 0.1725, 0.0000, 0.0000, 0.0000, 0.0000, 0.0000, 0.0000,\n",
      "         0.0000],\n",
      "        [0.0000, 0.0000, 0.0000, 0.0000, 0.0000, 0.0000, 0.0000, 0.0000, 0.0000,\n",
      "         0.0000, 0.0000, 0.0000, 0.0000, 0.0000, 0.0000, 0.0000, 0.2314, 0.9765,\n",
      "         0.9961, 0.2431, 0.0000, 0.0000, 0.0000, 0.0000, 0.0000, 0.0000, 0.0000,\n",
      "         0.0000],\n",
      "        [0.0000, 0.0000, 0.0000, 0.0000, 0.0000, 0.0000, 0.0000, 0.0000, 0.0000,\n",
      "         0.0000, 0.0000, 0.0000, 0.0000, 0.0000, 0.0000, 0.0000, 0.5216, 0.9961,\n",
      "         0.7333, 0.0196, 0.0000, 0.0000, 0.0000, 0.0000, 0.0000, 0.0000, 0.0000,\n",
      "         0.0000],\n",
      "        [0.0000, 0.0000, 0.0000, 0.0000, 0.0000, 0.0000, 0.0000, 0.0000, 0.0000,\n",
      "         0.0000, 0.0000, 0.0000, 0.0000, 0.0000, 0.0000, 0.0353, 0.8039, 0.9725,\n",
      "         0.2275, 0.0000, 0.0000, 0.0000, 0.0000, 0.0000, 0.0000, 0.0000, 0.0000,\n",
      "         0.0000],\n",
      "        [0.0000, 0.0000, 0.0000, 0.0000, 0.0000, 0.0000, 0.0000, 0.0000, 0.0000,\n",
      "         0.0000, 0.0000, 0.0000, 0.0000, 0.0000, 0.0000, 0.4941, 0.9961, 0.7137,\n",
      "         0.0000, 0.0000, 0.0000, 0.0000, 0.0000, 0.0000, 0.0000, 0.0000, 0.0000,\n",
      "         0.0000],\n",
      "        [0.0000, 0.0000, 0.0000, 0.0000, 0.0000, 0.0000, 0.0000, 0.0000, 0.0000,\n",
      "         0.0000, 0.0000, 0.0000, 0.0000, 0.0000, 0.2941, 0.9843, 0.9412, 0.2235,\n",
      "         0.0000, 0.0000, 0.0000, 0.0000, 0.0000, 0.0000, 0.0000, 0.0000, 0.0000,\n",
      "         0.0000],\n",
      "        [0.0000, 0.0000, 0.0000, 0.0000, 0.0000, 0.0000, 0.0000, 0.0000, 0.0000,\n",
      "         0.0000, 0.0000, 0.0000, 0.0000, 0.0745, 0.8667, 0.9961, 0.6510, 0.0000,\n",
      "         0.0000, 0.0000, 0.0000, 0.0000, 0.0000, 0.0000, 0.0000, 0.0000, 0.0000,\n",
      "         0.0000],\n",
      "        [0.0000, 0.0000, 0.0000, 0.0000, 0.0000, 0.0000, 0.0000, 0.0000, 0.0000,\n",
      "         0.0000, 0.0000, 0.0000, 0.0118, 0.7961, 0.9961, 0.8588, 0.1373, 0.0000,\n",
      "         0.0000, 0.0000, 0.0000, 0.0000, 0.0000, 0.0000, 0.0000, 0.0000, 0.0000,\n",
      "         0.0000],\n",
      "        [0.0000, 0.0000, 0.0000, 0.0000, 0.0000, 0.0000, 0.0000, 0.0000, 0.0000,\n",
      "         0.0000, 0.0000, 0.0000, 0.1490, 0.9961, 0.9961, 0.3020, 0.0000, 0.0000,\n",
      "         0.0000, 0.0000, 0.0000, 0.0000, 0.0000, 0.0000, 0.0000, 0.0000, 0.0000,\n",
      "         0.0000],\n",
      "        [0.0000, 0.0000, 0.0000, 0.0000, 0.0000, 0.0000, 0.0000, 0.0000, 0.0000,\n",
      "         0.0000, 0.0000, 0.1216, 0.8784, 0.9961, 0.4510, 0.0039, 0.0000, 0.0000,\n",
      "         0.0000, 0.0000, 0.0000, 0.0000, 0.0000, 0.0000, 0.0000, 0.0000, 0.0000,\n",
      "         0.0000],\n",
      "        [0.0000, 0.0000, 0.0000, 0.0000, 0.0000, 0.0000, 0.0000, 0.0000, 0.0000,\n",
      "         0.0000, 0.0000, 0.5216, 0.9961, 0.9961, 0.2039, 0.0000, 0.0000, 0.0000,\n",
      "         0.0000, 0.0000, 0.0000, 0.0000, 0.0000, 0.0000, 0.0000, 0.0000, 0.0000,\n",
      "         0.0000],\n",
      "        [0.0000, 0.0000, 0.0000, 0.0000, 0.0000, 0.0000, 0.0000, 0.0000, 0.0000,\n",
      "         0.0000, 0.2392, 0.9490, 0.9961, 0.9961, 0.2039, 0.0000, 0.0000, 0.0000,\n",
      "         0.0000, 0.0000, 0.0000, 0.0000, 0.0000, 0.0000, 0.0000, 0.0000, 0.0000,\n",
      "         0.0000],\n",
      "        [0.0000, 0.0000, 0.0000, 0.0000, 0.0000, 0.0000, 0.0000, 0.0000, 0.0000,\n",
      "         0.0000, 0.4745, 0.9961, 0.9961, 0.8588, 0.1569, 0.0000, 0.0000, 0.0000,\n",
      "         0.0000, 0.0000, 0.0000, 0.0000, 0.0000, 0.0000, 0.0000, 0.0000, 0.0000,\n",
      "         0.0000],\n",
      "        [0.0000, 0.0000, 0.0000, 0.0000, 0.0000, 0.0000, 0.0000, 0.0000, 0.0000,\n",
      "         0.0000, 0.4745, 0.9961, 0.8118, 0.0706, 0.0000, 0.0000, 0.0000, 0.0000,\n",
      "         0.0000, 0.0000, 0.0000, 0.0000, 0.0000, 0.0000, 0.0000, 0.0000, 0.0000,\n",
      "         0.0000],\n",
      "        [0.0000, 0.0000, 0.0000, 0.0000, 0.0000, 0.0000, 0.0000, 0.0000, 0.0000,\n",
      "         0.0000, 0.0000, 0.0000, 0.0000, 0.0000, 0.0000, 0.0000, 0.0000, 0.0000,\n",
      "         0.0000, 0.0000, 0.0000, 0.0000, 0.0000, 0.0000, 0.0000, 0.0000, 0.0000,\n",
      "         0.0000]])\n",
      "tensor([[0.0000, 0.0000, 0.0000, 0.0000, 0.0000, 0.0000, 0.0000, 0.0000, 0.0000,\n",
      "         0.0000, 0.0000, 0.0000, 0.0000, 0.0000, 0.0000, 0.0000, 0.0000, 0.0000,\n",
      "         0.0000, 0.0000, 0.0000, 0.0000, 0.0000, 0.0000, 0.0000, 0.0000, 0.0000,\n",
      "         0.0000],\n",
      "        [0.0000, 0.0000, 0.0000, 0.0000, 0.0000, 0.0000, 0.0000, 0.0000, 0.0000,\n",
      "         0.0000, 0.0000, 0.0000, 0.0000, 0.0000, 0.0000, 0.0000, 0.0000, 0.0000,\n",
      "         0.0000, 0.0000, 0.0000, 0.0000, 0.0000, 0.0000, 0.0000, 0.0000, 0.0000,\n",
      "         0.0000],\n",
      "        [0.0000, 0.0000, 0.0000, 0.0000, 0.0000, 0.0000, 0.0000, 0.0000, 0.0000,\n",
      "         0.0000, 0.0000, 0.0000, 0.0000, 0.0000, 0.0000, 0.0000, 0.0000, 0.0000,\n",
      "         0.0000, 0.0000, 0.0000, 0.0000, 0.0000, 0.0000, 0.0000, 0.0000, 0.0000,\n",
      "         0.0000],\n",
      "        [0.0000, 0.0000, 0.0000, 0.0000, 0.0000, 0.0000, 0.0000, 0.0000, 0.0000,\n",
      "         0.0000, 0.0000, 0.0000, 0.0000, 0.0000, 0.0000, 0.0000, 0.0000, 0.0000,\n",
      "         0.0000, 0.0000, 0.0000, 0.0000, 0.0000, 0.0000, 0.0000, 0.0000, 0.0000,\n",
      "         0.0000],\n",
      "        [0.0000, 0.0000, 0.0000, 0.0000, 0.0000, 0.0000, 0.0000, 0.0000, 0.0000,\n",
      "         0.0000, 0.0000, 0.0000, 0.0000, 0.0000, 0.0000, 0.0000, 0.0000, 0.0000,\n",
      "         0.0000, 0.0000, 0.0000, 0.0000, 0.0000, 0.0000, 0.0000, 0.0000, 0.0000,\n",
      "         0.0000],\n",
      "        [0.0000, 0.0000, 0.0000, 0.0000, 0.0000, 0.0000, 0.0000, 0.0000, 0.0000,\n",
      "         0.0000, 0.0000, 0.0000, 0.0000, 0.0000, 0.0000, 0.0000, 0.0000, 0.0000,\n",
      "         0.0000, 0.0000, 0.0000, 0.0000, 0.0000, 0.0000, 0.0000, 0.0000, 0.0000,\n",
      "         0.0000],\n",
      "        [0.0000, 0.0000, 0.0000, 0.0000, 0.0000, 0.0000, 0.0000, 0.0000, 0.0000,\n",
      "         0.0000, 0.0000, 0.0000, 0.0000, 0.0000, 0.0000, 0.0000, 0.0000, 0.0000,\n",
      "         0.0000, 0.0000, 0.0000, 0.0000, 0.0000, 0.0000, 0.0000, 0.0000, 0.0000,\n",
      "         0.0000],\n",
      "        [0.0000, 0.0000, 0.0000, 0.0000, 0.0000, 0.0000, 0.3294, 0.7255, 0.6235,\n",
      "         0.5922, 0.2353, 0.1412, 0.0000, 0.0000, 0.0000, 0.0000, 0.0000, 0.0000,\n",
      "         0.0000, 0.0000, 0.0000, 0.0000, 0.0000, 0.0000, 0.0000, 0.0000, 0.0000,\n",
      "         0.0000],\n",
      "        [0.0000, 0.0000, 0.0000, 0.0000, 0.0000, 0.0000, 0.8706, 0.9961, 0.9961,\n",
      "         0.9961, 0.9961, 0.9451, 0.7765, 0.7765, 0.7765, 0.7765, 0.7765, 0.7765,\n",
      "         0.7765, 0.7765, 0.6667, 0.2039, 0.0000, 0.0000, 0.0000, 0.0000, 0.0000,\n",
      "         0.0000],\n",
      "        [0.0000, 0.0000, 0.0000, 0.0000, 0.0000, 0.0000, 0.2627, 0.4471, 0.2824,\n",
      "         0.4471, 0.6392, 0.8902, 0.9961, 0.8824, 0.9961, 0.9961, 0.9961, 0.9804,\n",
      "         0.8980, 0.9961, 0.9961, 0.5490, 0.0000, 0.0000, 0.0000, 0.0000, 0.0000,\n",
      "         0.0000],\n",
      "        [0.0000, 0.0000, 0.0000, 0.0000, 0.0000, 0.0000, 0.0000, 0.0000, 0.0000,\n",
      "         0.0000, 0.0000, 0.0667, 0.2588, 0.0549, 0.2627, 0.2627, 0.2627, 0.2314,\n",
      "         0.0824, 0.9255, 0.9961, 0.4157, 0.0000, 0.0000, 0.0000, 0.0000, 0.0000,\n",
      "         0.0000],\n",
      "        [0.0000, 0.0000, 0.0000, 0.0000, 0.0000, 0.0000, 0.0000, 0.0000, 0.0000,\n",
      "         0.0000, 0.0000, 0.0000, 0.0000, 0.0000, 0.0000, 0.0000, 0.0000, 0.0000,\n",
      "         0.3255, 0.9922, 0.8196, 0.0706, 0.0000, 0.0000, 0.0000, 0.0000, 0.0000,\n",
      "         0.0000],\n",
      "        [0.0000, 0.0000, 0.0000, 0.0000, 0.0000, 0.0000, 0.0000, 0.0000, 0.0000,\n",
      "         0.0000, 0.0000, 0.0000, 0.0000, 0.0000, 0.0000, 0.0000, 0.0000, 0.0863,\n",
      "         0.9137, 1.0000, 0.3255, 0.0000, 0.0000, 0.0000, 0.0000, 0.0000, 0.0000,\n",
      "         0.0000],\n",
      "        [0.0000, 0.0000, 0.0000, 0.0000, 0.0000, 0.0000, 0.0000, 0.0000, 0.0000,\n",
      "         0.0000, 0.0000, 0.0000, 0.0000, 0.0000, 0.0000, 0.0000, 0.0000, 0.5059,\n",
      "         0.9961, 0.9333, 0.1725, 0.0000, 0.0000, 0.0000, 0.0000, 0.0000, 0.0000,\n",
      "         0.0000],\n",
      "        [0.0000, 0.0000, 0.0000, 0.0000, 0.0000, 0.0000, 0.0000, 0.0000, 0.0000,\n",
      "         0.0000, 0.0000, 0.0000, 0.0000, 0.0000, 0.0000, 0.0000, 0.2314, 0.9765,\n",
      "         0.9961, 0.2431, 0.0000, 0.0000, 0.0000, 0.0000, 0.0000, 0.0000, 0.0000,\n",
      "         0.0000],\n",
      "        [0.0000, 0.0000, 0.0000, 0.0000, 0.0000, 0.0000, 0.0000, 0.0000, 0.0000,\n",
      "         0.0000, 0.0000, 0.0000, 0.0000, 0.0000, 0.0000, 0.0000, 0.5216, 0.9961,\n",
      "         0.7333, 0.0196, 0.0000, 0.0000, 0.0000, 0.0000, 0.0000, 0.0000, 0.0000,\n",
      "         0.0000],\n",
      "        [0.0000, 0.0000, 0.0000, 0.0000, 0.0000, 0.0000, 0.0000, 0.0000, 0.0000,\n",
      "         0.0000, 0.0000, 0.0000, 0.0000, 0.0000, 0.0000, 0.0353, 0.8039, 0.9725,\n",
      "         0.2275, 0.0000, 0.0000, 0.0000, 0.0000, 0.0000, 0.0000, 0.0000, 0.0000,\n",
      "         0.0000],\n",
      "        [0.0000, 0.0000, 0.0000, 0.0000, 0.0000, 0.0000, 0.0000, 0.0000, 0.0000,\n",
      "         0.0000, 0.0000, 0.0000, 0.0000, 0.0000, 0.0000, 0.4941, 0.9961, 0.7137,\n",
      "         0.0000, 0.0000, 0.0000, 0.0000, 0.0000, 0.0000, 0.0000, 0.0000, 0.0000,\n",
      "         0.0000],\n",
      "        [0.0000, 0.0000, 0.0000, 0.0000, 0.0000, 0.0000, 0.0000, 0.0000, 0.0000,\n",
      "         0.0000, 0.0000, 0.0000, 0.0000, 0.0000, 0.2941, 0.9843, 0.9412, 0.2235,\n",
      "         0.0000, 0.0000, 0.0000, 0.0000, 0.0000, 0.0000, 0.0000, 0.0000, 0.0000,\n",
      "         0.0000],\n",
      "        [0.0000, 0.0000, 0.0000, 0.0000, 0.0000, 0.0000, 0.0000, 0.0000, 0.0000,\n",
      "         0.0000, 0.0000, 0.0000, 0.0000, 0.0745, 0.8667, 0.9961, 0.6510, 0.0000,\n",
      "         0.0000, 0.0000, 0.0000, 0.0000, 0.0000, 0.0000, 0.0000, 0.0000, 0.0000,\n",
      "         0.0000],\n",
      "        [0.0000, 0.0000, 0.0000, 0.0000, 0.0000, 0.0000, 0.0000, 0.0000, 0.0000,\n",
      "         0.0000, 0.0000, 0.0000, 0.0118, 0.7961, 0.9961, 0.8588, 0.1373, 0.0000,\n",
      "         0.0000, 0.0000, 0.0000, 0.0000, 0.0000, 0.0000, 0.0000, 0.0000, 0.0000,\n",
      "         0.0000],\n",
      "        [0.0000, 0.0000, 0.0000, 0.0000, 0.0000, 0.0000, 0.0000, 0.0000, 0.0000,\n",
      "         0.0000, 0.0000, 0.0000, 0.1490, 0.9961, 0.9961, 0.3020, 0.0000, 0.0000,\n",
      "         0.0000, 0.0000, 0.0000, 0.0000, 0.0000, 0.0000, 0.0000, 0.0000, 0.0000,\n",
      "         0.0000],\n",
      "        [0.0000, 0.0000, 0.0000, 0.0000, 0.0000, 0.0000, 0.0000, 0.0000, 0.0000,\n",
      "         0.0000, 0.0000, 0.1216, 0.8784, 0.9961, 0.4510, 0.0039, 0.0000, 0.0000,\n",
      "         0.0000, 0.0000, 0.0000, 0.0000, 0.0000, 0.0000, 0.0000, 0.0000, 0.0000,\n",
      "         0.0000],\n",
      "        [0.0000, 0.0000, 0.0000, 0.0000, 0.0000, 0.0000, 0.0000, 0.0000, 0.0000,\n",
      "         0.0000, 0.0000, 0.5216, 0.9961, 0.9961, 0.2039, 0.0000, 0.0000, 0.0000,\n",
      "         0.0000, 0.0000, 0.0000, 0.0000, 0.0000, 0.0000, 0.0000, 0.0000, 0.0000,\n",
      "         0.0000],\n",
      "        [0.0000, 0.0000, 0.0000, 0.0000, 0.0000, 0.0000, 0.0000, 0.0000, 0.0000,\n",
      "         0.0000, 0.2392, 0.9490, 0.9961, 0.9961, 0.2039, 0.0000, 0.0000, 0.0000,\n",
      "         0.0000, 0.0000, 0.0000, 0.0000, 0.0000, 0.0000, 0.0000, 0.0000, 0.0000,\n",
      "         0.0000],\n",
      "        [0.0000, 0.0000, 0.0000, 0.0000, 0.0000, 0.0000, 0.0000, 0.0000, 0.0000,\n",
      "         0.0000, 0.4745, 0.9961, 0.9961, 0.8588, 0.1569, 0.0000, 0.0000, 0.0000,\n",
      "         0.0000, 0.0000, 0.0000, 0.0000, 0.0000, 0.0000, 0.0000, 0.0000, 0.0000,\n",
      "         0.0000],\n",
      "        [0.0000, 0.0000, 0.0000, 0.0000, 0.0000, 0.0000, 0.0000, 0.0000, 0.0000,\n",
      "         0.0000, 0.4745, 0.9961, 0.8118, 0.0706, 0.0000, 0.0000, 0.0000, 0.0000,\n",
      "         0.0000, 0.0000, 0.0000, 0.0000, 0.0000, 0.0000, 0.0000, 0.0000, 0.0000,\n",
      "         0.0000],\n",
      "        [0.0000, 0.0000, 0.0000, 0.0000, 0.0000, 0.0000, 0.0000, 0.0000, 0.0000,\n",
      "         0.0000, 0.0000, 0.0000, 0.0000, 0.0000, 0.0000, 0.0000, 0.0000, 0.0000,\n",
      "         0.0000, 0.0000, 0.0000, 0.0000, 0.0000, 0.0000, 0.0000, 0.0000, 0.0000,\n",
      "         0.0000]])\n"
     ]
    }
   ],
   "source": [
    "timages, _ = next(iter(testloader))\n",
    "dpimages, _ = next(iter(dploader))\n",
    "index = 0\n",
    "#dpimages[index] = transforms.Normalize((0.5,), (0.5, ))(dpimages[index])\n",
    "dpimages[index]/= 255\n",
    "print(timages[index].shape, dpimages[index].shape)\n",
    "print(timages[index].dtype, dpimages[index].dtype)\n",
    "print(timages[index].sum(), dpimages[index].sum())\n",
    "print(timages[index, 0])\n",
    "print(dpimages[index, 0])\n",
    "\n"
   ]
  },
  {
   "cell_type": "code",
   "execution_count": 41,
   "metadata": {},
   "outputs": [
    {
     "name": "stdout",
     "output_type": "stream",
     "text": [
      "tensor([[ 0.,  1.,  2.,  3.,  4.],\n",
      "        [ 5.,  6.,  7.,  8.,  9.],\n",
      "        [10., 11., 12., 13., 14.],\n",
      "        [15., 16., 17., 18., 19.],\n",
      "        [20., 21., 22., 23., 24.],\n",
      "        [25., 26., 27., 28., 29.],\n",
      "        [30., 31., 32., 33., 34.],\n",
      "        [35., 36., 37., 38., 39.],\n",
      "        [40., 41., 42., 43., 44.],\n",
      "        [45., 46., 47., 48., 49.]])\n",
      "tensor([[ 0.,  1.,  2.,  3.,  4.],\n",
      "        [ 5.,  6.,  7.,  8.,  9.],\n",
      "        [10., 11., 12., 13., 14.],\n",
      "        [15., 16., 17., 18., 19.],\n",
      "        [20., 21., 22., 23., 24.],\n",
      "        [25., 26., 27., 28., 29.],\n",
      "        [30., 31., 32., 33., 34.],\n",
      "        [35., 36., 37., 38., 39.],\n",
      "        [40., 41., 42., 43., 44.],\n",
      "        [45., 46., 47., 48., 49.]])\n",
      "[tensor([[ 0.,  1.,  2.,  3.,  4.],\n",
      "        [ 5.,  6.,  7.,  8.,  9.],\n",
      "        [10., 11., 12., 13., 14.],\n",
      "        [15., 16., 17., 18., 19.]]), tensor([[ 0.,  1.,  2.,  3.,  4.],\n",
      "        [ 5.,  6.,  7.,  8.,  9.],\n",
      "        [10., 11., 12., 13., 14.],\n",
      "        [15., 16., 17., 18., 19.]])]\n",
      "[tensor([[20., 21., 22., 23., 24.],\n",
      "        [25., 26., 27., 28., 29.],\n",
      "        [30., 31., 32., 33., 34.],\n",
      "        [35., 36., 37., 38., 39.]]), tensor([[20., 21., 22., 23., 24.],\n",
      "        [25., 26., 27., 28., 29.],\n",
      "        [30., 31., 32., 33., 34.],\n",
      "        [35., 36., 37., 38., 39.]])]\n",
      "[tensor([[40., 41., 42., 43., 44.],\n",
      "        [45., 46., 47., 48., 49.]]), tensor([[40., 41., 42., 43., 44.],\n",
      "        [45., 46., 47., 48., 49.]])]\n"
     ]
    }
   ],
   "source": [
    "from torch.utils.data import TensorDataset, DataLoader\n",
    "inps = torch.arange(10 * 5, dtype=torch.float32).view(10, 5)\n",
    "tgts = torch.arange(10 * 5, dtype=torch.float32).view(10, 5)\n",
    "print(inps)\n",
    "print(tgts)\n",
    "dataset = TensorDataset(inps, tgts)\n",
    "\n",
    "loader = DataLoader(dataset, batch_size=4)\n",
    "\n",
    "for batch_ndx, sample in enumerate(loader):\n",
    "    print(sample)"
   ]
  },
  {
   "cell_type": "code",
   "execution_count": 106,
   "metadata": {},
   "outputs": [
    {
     "name": "stdout",
     "output_type": "stream",
     "text": [
      "tensor([[1., 8., 7., 1.],\n",
      "        [2., 9., 7., 2.],\n",
      "        [2., 3., 5., 1.]])\n"
     ]
    }
   ],
   "source": [
    "r = torch.zeros([3, 4])\n",
    "#print(r)\n",
    "# r = torch.cat((r, x), 0)\n",
    "# r = torch.cat((r, y), 0)\n",
    "r[0] = x\n",
    "r[1] = y\n",
    "r[2] = z\n",
    "print(r)"
   ]
  },
  {
   "cell_type": "code",
   "execution_count": 120,
   "metadata": {},
   "outputs": [
    {
     "data": {
      "text/plain": [
       "tensor([0, 1, 2, 0, 0, 0, 0, 0, 0, 0])"
      ]
     },
     "execution_count": 120,
     "metadata": {},
     "output_type": "execute_result"
    }
   ],
   "source": [
    "r = r.int()\n",
    "r[:,0].bincount(minlength=10)\n",
    "\n",
    "#x.bincount(minlength = 10)\n",
    "#rt = r.transpose(0, 1).int()\n",
    "#print(rt)\n",
    "#rt.bincount()"
   ]
  }
 ],
 "metadata": {
  "kernelspec": {
   "display_name": "Python 3",
   "language": "python",
   "name": "python3"
  },
  "language_info": {
   "codemirror_mode": {
    "name": "ipython",
    "version": 3
   },
   "file_extension": ".py",
   "mimetype": "text/x-python",
   "name": "python",
   "nbconvert_exporter": "python",
   "pygments_lexer": "ipython3",
   "version": "3.7.3"
  }
 },
 "nbformat": 4,
 "nbformat_minor": 2
}
